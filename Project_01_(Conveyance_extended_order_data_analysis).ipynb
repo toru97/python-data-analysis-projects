{
  "nbformat": 4,
  "nbformat_minor": 0,
  "metadata": {
    "colab": {
      "provenance": [],
      "toc_visible": true
    },
    "kernelspec": {
      "name": "python3",
      "display_name": "Python 3"
    },
    "language_info": {
      "name": "python"
    }
  },
  "cells": [
    {
      "cell_type": "markdown",
      "source": [
        "## Table of contents\n",
        "\n",
        "1. <a href=\"#1.-Necessary Libraries\"> Necessary Libraries</a>\n",
        "2. <a href=\"#2.-Loading & Reading the Dataset\">Loading & Reading the Dataset</a>\n",
        "3. <a href=\"#3.-Checking null/Missing values\">Checking null/Missing values</a>\n",
        "4. <a href=\"#4.-Summary Statistics\">Summary Statistics</a>\n",
        "5. <a href=\"#5.-Dealing with Categorical/object values\">Dealing with Categorical/object values</a>\n",
        "6. <a href=\"#6.-Drawing Correlation, Covariance matrix\">Drawing Correlation, Covariance matrix</a>\n",
        "7. <a href=\"#7.-Visualization of the Data\">Visualization of the Data</a>\n",
        "8. <a href=\"#8.-Findings Insights\">Findings Insights</a>"
      ],
      "metadata": {
        "id": "1UoAEPEGwNbw"
      }
    },
    {
      "cell_type": "markdown",
      "source": [
        "# 1. Necessasry Libraries"
      ],
      "metadata": {
        "id": "b0IdVYpDTlTk"
      }
    },
    {
      "cell_type": "code",
      "execution_count": null,
      "metadata": {
        "id": "vZQV8qL_SsqH"
      },
      "outputs": [],
      "source": [
        "# Importing all the libraries\n",
        "import pandas as pd\n",
        "import numpy as np\n",
        "import matplotlib.pyplot as plt\n",
        "import seaborn as sns"
      ]
    },
    {
      "cell_type": "markdown",
      "source": [
        "# 2. Loading & Reading the dataset"
      ],
      "metadata": {
        "id": "MOGrmi3XTz1e"
      }
    },
    {
      "cell_type": "code",
      "source": [
        "# Using excel we have taken required data using some preprocessing\n",
        "# then converted this excel file into csv file\n",
        "# Reading the dataset\n",
        "df = pd.read_csv(\"/content/drive/MyDrive/Python/Datasets/conveyance_extended_order_report_07-June-2023_04_29 PM.csv\")"
      ],
      "metadata": {
        "id": "8_Zz2wp6T0Oj"
      },
      "execution_count": null,
      "outputs": []
    },
    {
      "cell_type": "code",
      "source": [
        "df.head(10)"
      ],
      "metadata": {
        "colab": {
          "base_uri": "https://localhost:8080/",
          "height": 363
        },
        "id": "XYWGhuGNUICW",
        "outputId": "e8ec36c2-a271-4604-f421-e02f81f8aaf1"
      },
      "execution_count": null,
      "outputs": [
        {
          "output_type": "execute_result",
          "data": {
            "text/plain": [
              "   Sl No.   Product Name Product Unit  Unit Price  Quantity  Discount  \\\n",
              "0       1      Product 1           Pc       119.0        30      0.00   \n",
              "1       1  Test Product            Pc       110.0         7      0.00   \n",
              "2       1   Test Product           Pc       110.0         5      0.00   \n",
              "3       1      Product 2           Pc       235.0        24     14.10   \n",
              "4       2     Product 3            Pc       235.0        24     14.10   \n",
              "5       3      Product 4           Pc       322.0        24     19.32   \n",
              "6       1      Product 5           Pc        21.4        72      0.00   \n",
              "7       2      Product 6           Pc        22.4        72      0.00   \n",
              "8       1      Product 7           Pc       211.0        60     14.77   \n",
              "9       1      Product 8           Pc       121.0         1      0.00   \n",
              "\n",
              "   Total Price  \n",
              "0       3570.0  \n",
              "1        770.0  \n",
              "2        550.0  \n",
              "3       5640.0  \n",
              "4       5640.0  \n",
              "5       7728.0  \n",
              "6       1540.8  \n",
              "7       1612.8  \n",
              "8      12660.0  \n",
              "9        121.0  "
            ],
            "text/html": [
              "\n",
              "\n",
              "  <div id=\"df-0dd3301a-f058-4fd9-b55c-b65df9afe5af\">\n",
              "    <div class=\"colab-df-container\">\n",
              "      <div>\n",
              "<style scoped>\n",
              "    .dataframe tbody tr th:only-of-type {\n",
              "        vertical-align: middle;\n",
              "    }\n",
              "\n",
              "    .dataframe tbody tr th {\n",
              "        vertical-align: top;\n",
              "    }\n",
              "\n",
              "    .dataframe thead th {\n",
              "        text-align: right;\n",
              "    }\n",
              "</style>\n",
              "<table border=\"1\" class=\"dataframe\">\n",
              "  <thead>\n",
              "    <tr style=\"text-align: right;\">\n",
              "      <th></th>\n",
              "      <th>Sl No.</th>\n",
              "      <th>Product Name</th>\n",
              "      <th>Product Unit</th>\n",
              "      <th>Unit Price</th>\n",
              "      <th>Quantity</th>\n",
              "      <th>Discount</th>\n",
              "      <th>Total Price</th>\n",
              "    </tr>\n",
              "  </thead>\n",
              "  <tbody>\n",
              "    <tr>\n",
              "      <th>0</th>\n",
              "      <td>1</td>\n",
              "      <td>Product 1</td>\n",
              "      <td>Pc</td>\n",
              "      <td>119.0</td>\n",
              "      <td>30</td>\n",
              "      <td>0.00</td>\n",
              "      <td>3570.0</td>\n",
              "    </tr>\n",
              "    <tr>\n",
              "      <th>1</th>\n",
              "      <td>1</td>\n",
              "      <td>Test Product</td>\n",
              "      <td>Pc</td>\n",
              "      <td>110.0</td>\n",
              "      <td>7</td>\n",
              "      <td>0.00</td>\n",
              "      <td>770.0</td>\n",
              "    </tr>\n",
              "    <tr>\n",
              "      <th>2</th>\n",
              "      <td>1</td>\n",
              "      <td>Test Product</td>\n",
              "      <td>Pc</td>\n",
              "      <td>110.0</td>\n",
              "      <td>5</td>\n",
              "      <td>0.00</td>\n",
              "      <td>550.0</td>\n",
              "    </tr>\n",
              "    <tr>\n",
              "      <th>3</th>\n",
              "      <td>1</td>\n",
              "      <td>Product 2</td>\n",
              "      <td>Pc</td>\n",
              "      <td>235.0</td>\n",
              "      <td>24</td>\n",
              "      <td>14.10</td>\n",
              "      <td>5640.0</td>\n",
              "    </tr>\n",
              "    <tr>\n",
              "      <th>4</th>\n",
              "      <td>2</td>\n",
              "      <td>Product 3</td>\n",
              "      <td>Pc</td>\n",
              "      <td>235.0</td>\n",
              "      <td>24</td>\n",
              "      <td>14.10</td>\n",
              "      <td>5640.0</td>\n",
              "    </tr>\n",
              "    <tr>\n",
              "      <th>5</th>\n",
              "      <td>3</td>\n",
              "      <td>Product 4</td>\n",
              "      <td>Pc</td>\n",
              "      <td>322.0</td>\n",
              "      <td>24</td>\n",
              "      <td>19.32</td>\n",
              "      <td>7728.0</td>\n",
              "    </tr>\n",
              "    <tr>\n",
              "      <th>6</th>\n",
              "      <td>1</td>\n",
              "      <td>Product 5</td>\n",
              "      <td>Pc</td>\n",
              "      <td>21.4</td>\n",
              "      <td>72</td>\n",
              "      <td>0.00</td>\n",
              "      <td>1540.8</td>\n",
              "    </tr>\n",
              "    <tr>\n",
              "      <th>7</th>\n",
              "      <td>2</td>\n",
              "      <td>Product 6</td>\n",
              "      <td>Pc</td>\n",
              "      <td>22.4</td>\n",
              "      <td>72</td>\n",
              "      <td>0.00</td>\n",
              "      <td>1612.8</td>\n",
              "    </tr>\n",
              "    <tr>\n",
              "      <th>8</th>\n",
              "      <td>1</td>\n",
              "      <td>Product 7</td>\n",
              "      <td>Pc</td>\n",
              "      <td>211.0</td>\n",
              "      <td>60</td>\n",
              "      <td>14.77</td>\n",
              "      <td>12660.0</td>\n",
              "    </tr>\n",
              "    <tr>\n",
              "      <th>9</th>\n",
              "      <td>1</td>\n",
              "      <td>Product 8</td>\n",
              "      <td>Pc</td>\n",
              "      <td>121.0</td>\n",
              "      <td>1</td>\n",
              "      <td>0.00</td>\n",
              "      <td>121.0</td>\n",
              "    </tr>\n",
              "  </tbody>\n",
              "</table>\n",
              "</div>\n",
              "      <button class=\"colab-df-convert\" onclick=\"convertToInteractive('df-0dd3301a-f058-4fd9-b55c-b65df9afe5af')\"\n",
              "              title=\"Convert this dataframe to an interactive table.\"\n",
              "              style=\"display:none;\">\n",
              "\n",
              "  <svg xmlns=\"http://www.w3.org/2000/svg\" height=\"24px\"viewBox=\"0 0 24 24\"\n",
              "       width=\"24px\">\n",
              "    <path d=\"M0 0h24v24H0V0z\" fill=\"none\"/>\n",
              "    <path d=\"M18.56 5.44l.94 2.06.94-2.06 2.06-.94-2.06-.94-.94-2.06-.94 2.06-2.06.94zm-11 1L8.5 8.5l.94-2.06 2.06-.94-2.06-.94L8.5 2.5l-.94 2.06-2.06.94zm10 10l.94 2.06.94-2.06 2.06-.94-2.06-.94-.94-2.06-.94 2.06-2.06.94z\"/><path d=\"M17.41 7.96l-1.37-1.37c-.4-.4-.92-.59-1.43-.59-.52 0-1.04.2-1.43.59L10.3 9.45l-7.72 7.72c-.78.78-.78 2.05 0 2.83L4 21.41c.39.39.9.59 1.41.59.51 0 1.02-.2 1.41-.59l7.78-7.78 2.81-2.81c.8-.78.8-2.07 0-2.86zM5.41 20L4 18.59l7.72-7.72 1.47 1.35L5.41 20z\"/>\n",
              "  </svg>\n",
              "      </button>\n",
              "\n",
              "\n",
              "\n",
              "    <div id=\"df-8517c285-6013-4402-a107-d7f72d7c6a18\">\n",
              "      <button class=\"colab-df-quickchart\" onclick=\"quickchart('df-8517c285-6013-4402-a107-d7f72d7c6a18')\"\n",
              "              title=\"Suggest charts.\"\n",
              "              style=\"display:none;\">\n",
              "\n",
              "<svg xmlns=\"http://www.w3.org/2000/svg\" height=\"24px\"viewBox=\"0 0 24 24\"\n",
              "     width=\"24px\">\n",
              "    <g>\n",
              "        <path d=\"M19 3H5c-1.1 0-2 .9-2 2v14c0 1.1.9 2 2 2h14c1.1 0 2-.9 2-2V5c0-1.1-.9-2-2-2zM9 17H7v-7h2v7zm4 0h-2V7h2v10zm4 0h-2v-4h2v4z\"/>\n",
              "    </g>\n",
              "</svg>\n",
              "      </button>\n",
              "    </div>\n",
              "\n",
              "<style>\n",
              "  .colab-df-quickchart {\n",
              "    background-color: #E8F0FE;\n",
              "    border: none;\n",
              "    border-radius: 50%;\n",
              "    cursor: pointer;\n",
              "    display: none;\n",
              "    fill: #1967D2;\n",
              "    height: 32px;\n",
              "    padding: 0 0 0 0;\n",
              "    width: 32px;\n",
              "  }\n",
              "\n",
              "  .colab-df-quickchart:hover {\n",
              "    background-color: #E2EBFA;\n",
              "    box-shadow: 0px 1px 2px rgba(60, 64, 67, 0.3), 0px 1px 3px 1px rgba(60, 64, 67, 0.15);\n",
              "    fill: #174EA6;\n",
              "  }\n",
              "\n",
              "  [theme=dark] .colab-df-quickchart {\n",
              "    background-color: #3B4455;\n",
              "    fill: #D2E3FC;\n",
              "  }\n",
              "\n",
              "  [theme=dark] .colab-df-quickchart:hover {\n",
              "    background-color: #434B5C;\n",
              "    box-shadow: 0px 1px 3px 1px rgba(0, 0, 0, 0.15);\n",
              "    filter: drop-shadow(0px 1px 2px rgba(0, 0, 0, 0.3));\n",
              "    fill: #FFFFFF;\n",
              "  }\n",
              "</style>\n",
              "\n",
              "    <script>\n",
              "      async function quickchart(key) {\n",
              "        const containerElement = document.querySelector('#' + key);\n",
              "        const charts = await google.colab.kernel.invokeFunction(\n",
              "            'suggestCharts', [key], {});\n",
              "      }\n",
              "    </script>\n",
              "\n",
              "      <script>\n",
              "\n",
              "function displayQuickchartButton(domScope) {\n",
              "  let quickchartButtonEl =\n",
              "    domScope.querySelector('#df-8517c285-6013-4402-a107-d7f72d7c6a18 button.colab-df-quickchart');\n",
              "  quickchartButtonEl.style.display =\n",
              "    google.colab.kernel.accessAllowed ? 'block' : 'none';\n",
              "}\n",
              "\n",
              "        displayQuickchartButton(document);\n",
              "      </script>\n",
              "      <style>\n",
              "    .colab-df-container {\n",
              "      display:flex;\n",
              "      flex-wrap:wrap;\n",
              "      gap: 12px;\n",
              "    }\n",
              "\n",
              "    .colab-df-convert {\n",
              "      background-color: #E8F0FE;\n",
              "      border: none;\n",
              "      border-radius: 50%;\n",
              "      cursor: pointer;\n",
              "      display: none;\n",
              "      fill: #1967D2;\n",
              "      height: 32px;\n",
              "      padding: 0 0 0 0;\n",
              "      width: 32px;\n",
              "    }\n",
              "\n",
              "    .colab-df-convert:hover {\n",
              "      background-color: #E2EBFA;\n",
              "      box-shadow: 0px 1px 2px rgba(60, 64, 67, 0.3), 0px 1px 3px 1px rgba(60, 64, 67, 0.15);\n",
              "      fill: #174EA6;\n",
              "    }\n",
              "\n",
              "    [theme=dark] .colab-df-convert {\n",
              "      background-color: #3B4455;\n",
              "      fill: #D2E3FC;\n",
              "    }\n",
              "\n",
              "    [theme=dark] .colab-df-convert:hover {\n",
              "      background-color: #434B5C;\n",
              "      box-shadow: 0px 1px 3px 1px rgba(0, 0, 0, 0.15);\n",
              "      filter: drop-shadow(0px 1px 2px rgba(0, 0, 0, 0.3));\n",
              "      fill: #FFFFFF;\n",
              "    }\n",
              "  </style>\n",
              "\n",
              "      <script>\n",
              "        const buttonEl =\n",
              "          document.querySelector('#df-0dd3301a-f058-4fd9-b55c-b65df9afe5af button.colab-df-convert');\n",
              "        buttonEl.style.display =\n",
              "          google.colab.kernel.accessAllowed ? 'block' : 'none';\n",
              "\n",
              "        async function convertToInteractive(key) {\n",
              "          const element = document.querySelector('#df-0dd3301a-f058-4fd9-b55c-b65df9afe5af');\n",
              "          const dataTable =\n",
              "            await google.colab.kernel.invokeFunction('convertToInteractive',\n",
              "                                                     [key], {});\n",
              "          if (!dataTable) return;\n",
              "\n",
              "          const docLinkHtml = 'Like what you see? Visit the ' +\n",
              "            '<a target=\"_blank\" href=https://colab.research.google.com/notebooks/data_table.ipynb>data table notebook</a>'\n",
              "            + ' to learn more about interactive tables.';\n",
              "          element.innerHTML = '';\n",
              "          dataTable['output_type'] = 'display_data';\n",
              "          await google.colab.output.renderOutput(dataTable, element);\n",
              "          const docLink = document.createElement('div');\n",
              "          docLink.innerHTML = docLinkHtml;\n",
              "          element.appendChild(docLink);\n",
              "        }\n",
              "      </script>\n",
              "    </div>\n",
              "  </div>\n"
            ]
          },
          "metadata": {},
          "execution_count": 3
        }
      ]
    },
    {
      "cell_type": "code",
      "source": [
        "df.shape"
      ],
      "metadata": {
        "colab": {
          "base_uri": "https://localhost:8080/"
        },
        "id": "Al9AiXOUUMKl",
        "outputId": "8ac27f7f-8cc7-4ad1-a7ad-70b6a440190a"
      },
      "execution_count": null,
      "outputs": [
        {
          "output_type": "execute_result",
          "data": {
            "text/plain": [
              "(708, 7)"
            ]
          },
          "metadata": {},
          "execution_count": 4
        }
      ]
    },
    {
      "cell_type": "markdown",
      "source": [
        "**We can see our dataset contains 708 rows and 7 features/columns**"
      ],
      "metadata": {
        "id": "o84jJoe5UfdT"
      }
    },
    {
      "cell_type": "code",
      "source": [
        "df.info()"
      ],
      "metadata": {
        "colab": {
          "base_uri": "https://localhost:8080/"
        },
        "id": "yJvocv3EUrg-",
        "outputId": "d5228a56-72c3-47b9-a31a-a43a2bf0c040"
      },
      "execution_count": null,
      "outputs": [
        {
          "output_type": "stream",
          "name": "stdout",
          "text": [
            "<class 'pandas.core.frame.DataFrame'>\n",
            "RangeIndex: 708 entries, 0 to 707\n",
            "Data columns (total 7 columns):\n",
            " #   Column        Non-Null Count  Dtype  \n",
            "---  ------        --------------  -----  \n",
            " 0   Sl No.        708 non-null    int64  \n",
            " 1   Product Name  708 non-null    object \n",
            " 2   Product Unit  708 non-null    object \n",
            " 3   Unit Price    708 non-null    float64\n",
            " 4   Quantity      708 non-null    int64  \n",
            " 5   Discount      708 non-null    float64\n",
            " 6   Total Price   708 non-null    float64\n",
            "dtypes: float64(3), int64(2), object(2)\n",
            "memory usage: 38.8+ KB\n"
          ]
        }
      ]
    },
    {
      "cell_type": "markdown",
      "source": [
        "***From a data analyst's perspective, the provided DataFrame contains information about 708 entries of products. Let's break down the columns and their characteristics:***\n",
        "\n",
        "\n",
        "- **Product Name:** This column contains the names or labels of the products. It is represented as an object data type, indicating it contains string values.\n",
        "\n",
        "- **Product Unit:** This column represents the unit of measurement for each product. It is also an object data type, suggesting it contains string values such as \"pieces\", \"units.\n",
        "\n",
        "- **Unit Price:** This column contains the unit price of each product. It is represented as a float64 data type, indicating it contains decimal values.\n",
        "\n",
        "- **Quantity:** This column represents the quantity of each product purchased. It is an integer data type, indicating it contains whole number values.\n",
        "\n",
        "- **Discount:** This column represents the discount applied to each product. It is a float64 data type, indicating it contains decimal values.\n",
        "\n",
        "- **Total Price:** This column contains the total price of each product after considering the quantity and discount. It is also a float64 data type, representing decimal values.\n",
        "\n",
        "Overall, this DataFrame provides a tabular representation of product-related data, including the product name, unit information, pricing details, quantity, discount, and total price. We can perform various operations on this data, such as analyzing trends, calculating statistics, visualizing patterns, and extracting insights for decision-making purposes."
      ],
      "metadata": {
        "id": "rpzdovocUtIk"
      }
    },
    {
      "cell_type": "markdown",
      "source": [
        "**More about the dataset**"
      ],
      "metadata": {
        "id": "BaCvyv1VVvJN"
      }
    },
    {
      "cell_type": "code",
      "source": [
        "# Show all the column names\n",
        "df.columns"
      ],
      "metadata": {
        "colab": {
          "base_uri": "https://localhost:8080/"
        },
        "id": "zXfoVlv6UwwU",
        "outputId": "ae2ef8ce-4aba-43d8-f309-aafa800563cb"
      },
      "execution_count": null,
      "outputs": [
        {
          "output_type": "execute_result",
          "data": {
            "text/plain": [
              "Index(['Sl No.', 'Product Name', 'Product Unit', 'Unit Price', 'Quantity',\n",
              "       'Discount', 'Total Price'],\n",
              "      dtype='object')"
            ]
          },
          "metadata": {},
          "execution_count": 6
        }
      ]
    },
    {
      "cell_type": "markdown",
      "source": [
        "# 3. Checking Null/Missing values"
      ],
      "metadata": {
        "id": "3rpT6j6RV960"
      }
    },
    {
      "cell_type": "code",
      "source": [
        "# Check for null values and count them\n",
        "null_count = df.isnull().sum()\n",
        "\n",
        "null_count"
      ],
      "metadata": {
        "colab": {
          "base_uri": "https://localhost:8080/"
        },
        "id": "x3QjsYakV-HE",
        "outputId": "faccd778-4a12-4adf-bfb4-cd49a3b59bd3"
      },
      "execution_count": null,
      "outputs": [
        {
          "output_type": "execute_result",
          "data": {
            "text/plain": [
              "Sl No.          0\n",
              "Product Name    0\n",
              "Product Unit    0\n",
              "Unit Price      0\n",
              "Quantity        0\n",
              "Discount        0\n",
              "Total Price     0\n",
              "dtype: int64"
            ]
          },
          "metadata": {},
          "execution_count": 7
        }
      ]
    },
    {
      "cell_type": "markdown",
      "source": [
        "**Another way to check null/missing values**"
      ],
      "metadata": {
        "id": "zXiZOtnzWZL1"
      }
    },
    {
      "cell_type": "code",
      "source": [
        "# Create a boolean mask where True represents missing values\n",
        "null_mask = df.isnull()\n",
        "\n",
        "# Use seaborn heatmap to visualize the missing values\n",
        "sns.heatmap(null_mask, cmap='cool', cbar=True)\n",
        "\n",
        "# Set plot title\n",
        "plt.title('Missing Values Heatmap')\n",
        "\n",
        "# Display the plot\n",
        "plt.show()"
      ],
      "metadata": {
        "colab": {
          "base_uri": "https://localhost:8080/",
          "height": 536
        },
        "id": "Q_w5JoExWZSk",
        "outputId": "0e6a7363-54f7-4f16-c8de-c54d2489c863"
      },
      "execution_count": null,
      "outputs": [
        {
          "output_type": "display_data",
          "data": {
            "text/plain": [
              "<Figure size 640x480 with 2 Axes>"
            ],
            "image/png": "[encoded data removed]"
          },
          "metadata": {}
        }
      ]
    },
    {
      "cell_type": "markdown",
      "source": [
        "**So, the dataset doesn't have any null or missing values**"
      ],
      "metadata": {
        "id": "7QRjgbYVW_49"
      }
    },
    {
      "cell_type": "markdown",
      "source": [
        "# 4. Summary statistics"
      ],
      "metadata": {
        "id": "fNZCZ2dbXGz2"
      }
    },
    {
      "cell_type": "code",
      "source": [
        "# Formatting the dataframe\n",
        "format_dict = {'Sl No.':'{:.2f}',\n",
        "                'Unit Price':'${:.2f}',\n",
        "               'Quantity':'{:.2f}',\n",
        "               'Discount':'${:.2f}',\n",
        "               'Total Price':'${:.2f}'}"
      ],
      "metadata": {
        "id": "OPXnDgl3aIeO"
      },
      "execution_count": null,
      "outputs": []
    },
    {
      "cell_type": "code",
      "source": [
        "df.describe().style.format(format_dict)"
      ],
      "metadata": {
        "colab": {
          "base_uri": "https://localhost:8080/",
          "height": 300
        },
        "id": "uO48PRGQXHLX",
        "outputId": "60a7ea08-7d17-42c4-9366-cfe3002955ca"
      },
      "execution_count": null,
      "outputs": [
        {
          "output_type": "execute_result",
          "data": {
            "text/plain": [
              "<pandas.io.formats.style.Styler at 0x7c0266a254b0>"
            ],
            "text/html": [
              "<style type=\"text/css\">\n",
              "</style>\n",
              "<table id=\"T_1cebc\" class=\"dataframe\">\n",
              "  <thead>\n",
              "    <tr>\n",
              "      <th class=\"blank level0\" >&nbsp;</th>\n",
              "      <th id=\"T_1cebc_level0_col0\" class=\"col_heading level0 col0\" >Sl No.</th>\n",
              "      <th id=\"T_1cebc_level0_col1\" class=\"col_heading level0 col1\" >Unit Price</th>\n",
              "      <th id=\"T_1cebc_level0_col2\" class=\"col_heading level0 col2\" >Quantity</th>\n",
              "      <th id=\"T_1cebc_level0_col3\" class=\"col_heading level0 col3\" >Discount</th>\n",
              "      <th id=\"T_1cebc_level0_col4\" class=\"col_heading level0 col4\" >Total Price</th>\n",
              "    </tr>\n",
              "  </thead>\n",
              "  <tbody>\n",
              "    <tr>\n",
              "      <th id=\"T_1cebc_level0_row0\" class=\"row_heading level0 row0\" >count</th>\n",
              "      <td id=\"T_1cebc_row0_col0\" class=\"data row0 col0\" >708.00</td>\n",
              "      <td id=\"T_1cebc_row0_col1\" class=\"data row0 col1\" >$708.00</td>\n",
              "      <td id=\"T_1cebc_row0_col2\" class=\"data row0 col2\" >708.00</td>\n",
              "      <td id=\"T_1cebc_row0_col3\" class=\"data row0 col3\" >$708.00</td>\n",
              "      <td id=\"T_1cebc_row0_col4\" class=\"data row0 col4\" >$708.00</td>\n",
              "    </tr>\n",
              "    <tr>\n",
              "      <th id=\"T_1cebc_level0_row1\" class=\"row_heading level0 row1\" >mean</th>\n",
              "      <td id=\"T_1cebc_row1_col0\" class=\"data row1 col0\" >2.37</td>\n",
              "      <td id=\"T_1cebc_row1_col1\" class=\"data row1 col1\" >$196.09</td>\n",
              "      <td id=\"T_1cebc_row1_col2\" class=\"data row1 col2\" >23.25</td>\n",
              "      <td id=\"T_1cebc_row1_col3\" class=\"data row1 col3\" >$3.24</td>\n",
              "      <td id=\"T_1cebc_row1_col4\" class=\"data row1 col4\" >$2193.30</td>\n",
              "    </tr>\n",
              "    <tr>\n",
              "      <th id=\"T_1cebc_level0_row2\" class=\"row_heading level0 row2\" >std</th>\n",
              "      <td id=\"T_1cebc_row2_col0\" class=\"data row2 col0\" >2.56</td>\n",
              "      <td id=\"T_1cebc_row2_col1\" class=\"data row2 col1\" >$297.71</td>\n",
              "      <td id=\"T_1cebc_row2_col2\" class=\"data row2 col2\" >31.04</td>\n",
              "      <td id=\"T_1cebc_row2_col3\" class=\"data row2 col3\" >$15.31</td>\n",
              "      <td id=\"T_1cebc_row2_col4\" class=\"data row2 col4\" >$2698.96</td>\n",
              "    </tr>\n",
              "    <tr>\n",
              "      <th id=\"T_1cebc_level0_row3\" class=\"row_heading level0 row3\" >min</th>\n",
              "      <td id=\"T_1cebc_row3_col0\" class=\"data row3 col0\" >1.00</td>\n",
              "      <td id=\"T_1cebc_row3_col1\" class=\"data row3 col1\" >$21.40</td>\n",
              "      <td id=\"T_1cebc_row3_col2\" class=\"data row3 col2\" >0.00</td>\n",
              "      <td id=\"T_1cebc_row3_col3\" class=\"data row3 col3\" >$0.00</td>\n",
              "      <td id=\"T_1cebc_row3_col4\" class=\"data row3 col4\" >$0.00</td>\n",
              "    </tr>\n",
              "    <tr>\n",
              "      <th id=\"T_1cebc_level0_row4\" class=\"row_heading level0 row4\" >25%</th>\n",
              "      <td id=\"T_1cebc_row4_col0\" class=\"data row4 col0\" >1.00</td>\n",
              "      <td id=\"T_1cebc_row4_col1\" class=\"data row4 col1\" >$52.00</td>\n",
              "      <td id=\"T_1cebc_row4_col2\" class=\"data row4 col2\" >6.00</td>\n",
              "      <td id=\"T_1cebc_row4_col3\" class=\"data row4 col3\" >$0.00</td>\n",
              "      <td id=\"T_1cebc_row4_col4\" class=\"data row4 col4\" >$624.00</td>\n",
              "    </tr>\n",
              "    <tr>\n",
              "      <th id=\"T_1cebc_level0_row5\" class=\"row_heading level0 row5\" >50%</th>\n",
              "      <td id=\"T_1cebc_row5_col0\" class=\"data row5 col0\" >2.00</td>\n",
              "      <td id=\"T_1cebc_row5_col1\" class=\"data row5 col1\" >$119.00</td>\n",
              "      <td id=\"T_1cebc_row5_col2\" class=\"data row5 col2\" >12.00</td>\n",
              "      <td id=\"T_1cebc_row5_col3\" class=\"data row5 col3\" >$0.00</td>\n",
              "      <td id=\"T_1cebc_row5_col4\" class=\"data row5 col4\" >$1356.00</td>\n",
              "    </tr>\n",
              "    <tr>\n",
              "      <th id=\"T_1cebc_level0_row6\" class=\"row_heading level0 row6\" >75%</th>\n",
              "      <td id=\"T_1cebc_row6_col0\" class=\"data row6 col0\" >3.00</td>\n",
              "      <td id=\"T_1cebc_row6_col1\" class=\"data row6 col1\" >$211.00</td>\n",
              "      <td id=\"T_1cebc_row6_col2\" class=\"data row6 col2\" >30.00</td>\n",
              "      <td id=\"T_1cebc_row6_col3\" class=\"data row6 col3\" >$0.00</td>\n",
              "      <td id=\"T_1cebc_row6_col4\" class=\"data row6 col4\" >$2907.75</td>\n",
              "    </tr>\n",
              "    <tr>\n",
              "      <th id=\"T_1cebc_level0_row7\" class=\"row_heading level0 row7\" >max</th>\n",
              "      <td id=\"T_1cebc_row7_col0\" class=\"data row7 col0\" >22.00</td>\n",
              "      <td id=\"T_1cebc_row7_col1\" class=\"data row7 col1\" >$3170.00</td>\n",
              "      <td id=\"T_1cebc_row7_col2\" class=\"data row7 col2\" >336.00</td>\n",
              "      <td id=\"T_1cebc_row7_col3\" class=\"data row7 col3\" >$330.00</td>\n",
              "      <td id=\"T_1cebc_row7_col4\" class=\"data row7 col4\" >$24990.00</td>\n",
              "    </tr>\n",
              "  </tbody>\n",
              "</table>\n"
            ]
          },
          "metadata": {},
          "execution_count": 10
        }
      ]
    },
    {
      "cell_type": "markdown",
      "source": [
        "Five number summary measure"
      ],
      "metadata": {
        "id": "EupzOxzkXO-t"
      }
    },
    {
      "cell_type": "code",
      "source": [
        "df.describe().loc['min':'max'].style.format(format_dict)"
      ],
      "metadata": {
        "colab": {
          "base_uri": "https://localhost:8080/",
          "height": 206
        },
        "id": "2AJMBh-_XS49",
        "outputId": "a65047f7-0152-4173-a49d-502f4adf80a2"
      },
      "execution_count": null,
      "outputs": [
        {
          "output_type": "execute_result",
          "data": {
            "text/plain": [
              "<pandas.io.formats.style.Styler at 0x7c0266a6aa10>"
            ],
            "text/html": [
              "<style type=\"text/css\">\n",
              "</style>\n",
              "<table id=\"T_4466c\" class=\"dataframe\">\n",
              "  <thead>\n",
              "    <tr>\n",
              "      <th class=\"blank level0\" >&nbsp;</th>\n",
              "      <th id=\"T_4466c_level0_col0\" class=\"col_heading level0 col0\" >Sl No.</th>\n",
              "      <th id=\"T_4466c_level0_col1\" class=\"col_heading level0 col1\" >Unit Price</th>\n",
              "      <th id=\"T_4466c_level0_col2\" class=\"col_heading level0 col2\" >Quantity</th>\n",
              "      <th id=\"T_4466c_level0_col3\" class=\"col_heading level0 col3\" >Discount</th>\n",
              "      <th id=\"T_4466c_level0_col4\" class=\"col_heading level0 col4\" >Total Price</th>\n",
              "    </tr>\n",
              "  </thead>\n",
              "  <tbody>\n",
              "    <tr>\n",
              "      <th id=\"T_4466c_level0_row0\" class=\"row_heading level0 row0\" >min</th>\n",
              "      <td id=\"T_4466c_row0_col0\" class=\"data row0 col0\" >1.00</td>\n",
              "      <td id=\"T_4466c_row0_col1\" class=\"data row0 col1\" >$21.40</td>\n",
              "      <td id=\"T_4466c_row0_col2\" class=\"data row0 col2\" >0.00</td>\n",
              "      <td id=\"T_4466c_row0_col3\" class=\"data row0 col3\" >$0.00</td>\n",
              "      <td id=\"T_4466c_row0_col4\" class=\"data row0 col4\" >$0.00</td>\n",
              "    </tr>\n",
              "    <tr>\n",
              "      <th id=\"T_4466c_level0_row1\" class=\"row_heading level0 row1\" >25%</th>\n",
              "      <td id=\"T_4466c_row1_col0\" class=\"data row1 col0\" >1.00</td>\n",
              "      <td id=\"T_4466c_row1_col1\" class=\"data row1 col1\" >$52.00</td>\n",
              "      <td id=\"T_4466c_row1_col2\" class=\"data row1 col2\" >6.00</td>\n",
              "      <td id=\"T_4466c_row1_col3\" class=\"data row1 col3\" >$0.00</td>\n",
              "      <td id=\"T_4466c_row1_col4\" class=\"data row1 col4\" >$624.00</td>\n",
              "    </tr>\n",
              "    <tr>\n",
              "      <th id=\"T_4466c_level0_row2\" class=\"row_heading level0 row2\" >50%</th>\n",
              "      <td id=\"T_4466c_row2_col0\" class=\"data row2 col0\" >2.00</td>\n",
              "      <td id=\"T_4466c_row2_col1\" class=\"data row2 col1\" >$119.00</td>\n",
              "      <td id=\"T_4466c_row2_col2\" class=\"data row2 col2\" >12.00</td>\n",
              "      <td id=\"T_4466c_row2_col3\" class=\"data row2 col3\" >$0.00</td>\n",
              "      <td id=\"T_4466c_row2_col4\" class=\"data row2 col4\" >$1356.00</td>\n",
              "    </tr>\n",
              "    <tr>\n",
              "      <th id=\"T_4466c_level0_row3\" class=\"row_heading level0 row3\" >75%</th>\n",
              "      <td id=\"T_4466c_row3_col0\" class=\"data row3 col0\" >3.00</td>\n",
              "      <td id=\"T_4466c_row3_col1\" class=\"data row3 col1\" >$211.00</td>\n",
              "      <td id=\"T_4466c_row3_col2\" class=\"data row3 col2\" >30.00</td>\n",
              "      <td id=\"T_4466c_row3_col3\" class=\"data row3 col3\" >$0.00</td>\n",
              "      <td id=\"T_4466c_row3_col4\" class=\"data row3 col4\" >$2907.75</td>\n",
              "    </tr>\n",
              "    <tr>\n",
              "      <th id=\"T_4466c_level0_row4\" class=\"row_heading level0 row4\" >max</th>\n",
              "      <td id=\"T_4466c_row4_col0\" class=\"data row4 col0\" >22.00</td>\n",
              "      <td id=\"T_4466c_row4_col1\" class=\"data row4 col1\" >$3170.00</td>\n",
              "      <td id=\"T_4466c_row4_col2\" class=\"data row4 col2\" >336.00</td>\n",
              "      <td id=\"T_4466c_row4_col3\" class=\"data row4 col3\" >$330.00</td>\n",
              "      <td id=\"T_4466c_row4_col4\" class=\"data row4 col4\" >$24990.00</td>\n",
              "    </tr>\n",
              "  </tbody>\n",
              "</table>\n"
            ]
          },
          "metadata": {},
          "execution_count": 11
        }
      ]
    },
    {
      "cell_type": "markdown",
      "source": [
        "## Interpretation of the results:\n",
        "\n",
        "**Sl No:**\n",
        "\n",
        "- The count is 708, indicating that all 708 entries have a valid serial number.\n",
        "- The minimum value is 1, and the maximum value is 22.\n",
        "- The mean (average) is approximately 2.37, indicating that the serial numbers are relatively low.\n",
        "- The standard deviation is around 2.56, suggesting that the serial numbers have some variation, but generally, they are close to the mean.\n",
        "\n",
        "**Unit Price:**\n",
        "\n",
        "- The count is 708, indicating that there are no missing values in the unit price column.\n",
        "- The minimum unit price is 21.4, while the maximum is 3170.\n",
        "- The mean unit price is approximately 196.09, indicating that, on average, the products are priced at this amount.\n",
        "- The standard deviation is around 297.71, suggesting a wide range of variation in unit prices.\n",
        "- The 25th percentile is 52, meaning that 25% of the unit prices fall below this value.\n",
        "- The 50th percentile (median) is 119, indicating that half of the unit prices are below this value.\n",
        "- The 75th percentile is 211, implying that 75% of the unit prices are below this value.\n",
        "\n",
        "**Quantity:**\n",
        "\n",
        "- The count is 708, indicating that there are no missing values in the quantity column.\n",
        "- The minimum quantity is 0, while the maximum is 336.\n",
        "- The mean quantity is approximately 23.25, indicating an average quantity of products.\n",
        "- The standard deviation is around 31.04, suggesting a variation in the quantity of products.\n",
        "- The 25th percentile is 6, meaning that 25% of the quantities fall below this value.\n",
        "- The median (50th percentile) is 12, indicating that half of the quantities are below this value.\n",
        "- The 75th percentile is 30, implying that 75% of the quantities are below this value.\n",
        "\n",
        "**Discount:**\n",
        "\n",
        "- The count is 708, indicating that there are no missing values in the discount column.\n",
        "- The minimum discount is 0, while the maximum is 330.\n",
        "- The mean discount is approximately 3.24, indicating an average discount percentage applied to the products.\n",
        "- The standard deviation is around 15.31, suggesting a wide range of variation in the discount percentages.\n",
        "- The 25th percentile is 0, meaning that 25% of the discounts fall below this value.\n",
        "- The median (50th percentile) is 0, indicating that half of the discounts are below this value.\n",
        "- The 75th percentile is 0, implying that 75% of the discounts are below this value.\n",
        "\n",
        "**Total Price:**\n",
        "\n",
        "- The count is 708, indicating that there are no missing values in the total price column.\n",
        "- The minimum total price is 0, while the maximum is 24990.\n",
        "- The mean total price is approximately 2193.30, indicating an average total price for the products.\n",
        "- The standard deviation is around 2698.96, suggesting a wide range of variation in the total prices.\n",
        "- The 25th percentile is 624, meaning that 25% of the total prices fall below this value.\n",
        "- The median (50th percentile) is 1356, indicating that half of the total prices are below this value.\n",
        "- The 75th percentile is 2907.75, implying that 75% of the total prices are below this value.\n",
        "\n",
        "In summary, the data shows that the serial numbers have relatively low values without much variation. The unit prices exhibit a wide range of variation"
      ],
      "metadata": {
        "id": "hx-43bHNXz5l"
      }
    },
    {
      "cell_type": "markdown",
      "source": [
        "# 5. Dealing with categorical/object values"
      ],
      "metadata": {
        "id": "kX-tEss_amTG"
      }
    },
    {
      "cell_type": "markdown",
      "source": [
        "We have two object type value:\n",
        "* Product Name\n",
        "* Product Unit"
      ],
      "metadata": {
        "id": "DnxmLCn7apDH"
      }
    },
    {
      "cell_type": "markdown",
      "source": [
        "**`Product Name` Column**"
      ],
      "metadata": {
        "id": "kt11AnTFaxw_"
      }
    },
    {
      "cell_type": "code",
      "source": [
        "df['Product Name'].value_counts()"
      ],
      "metadata": {
        "colab": {
          "base_uri": "https://localhost:8080/"
        },
        "id": "XoZeOlVca5yP",
        "outputId": "8fe50e9c-2ade-44fa-bc73-237f499a4e88"
      },
      "execution_count": null,
      "outputs": [
        {
          "output_type": "execute_result",
          "data": {
            "text/plain": [
              "Product 1     87\n",
              "Product 6     64\n",
              "Product 5     58\n",
              "Product 61    27\n",
              "Product 16    27\n",
              "              ..\n",
              "Product 45     1\n",
              "Product 51     1\n",
              "Product 52     1\n",
              "Product 58     1\n",
              "Product 78     1\n",
              "Name: Product Name, Length: 86, dtype: int64"
            ]
          },
          "metadata": {},
          "execution_count": 12
        }
      ]
    },
    {
      "cell_type": "code",
      "source": [
        "df['Product Name'].nunique()"
      ],
      "metadata": {
        "colab": {
          "base_uri": "https://localhost:8080/"
        },
        "id": "8uxVeo3ga9yu",
        "outputId": "c2f672d7-769a-4320-fa6c-b81e547f788e"
      },
      "execution_count": null,
      "outputs": [
        {
          "output_type": "execute_result",
          "data": {
            "text/plain": [
              "86"
            ]
          },
          "metadata": {},
          "execution_count": 13
        }
      ]
    },
    {
      "cell_type": "markdown",
      "source": [
        "`**Product Name**` column contains 86 unique values. Here is only two types of values:\n",
        " * Test Product\n",
        " * Product 1, 2, 3  ___all the way to___  78\n",
        "\n",
        " So, I am going the replace the **\"Test Product\"** with **\"0\"** and remove only **\"Product\"** from another category sole keeping the 1, 2, 3  ___all the way to___  78."
      ],
      "metadata": {
        "id": "sJ4oKp3abA9O"
      }
    },
    {
      "cell_type": "code",
      "source": [
        "# Replacing 'Test product' with 0 and remove 'product ' from other\n",
        "# values in 'Product Name' column\n",
        "df['Product Name'] = df['Product Name'].str.replace('Test Product', '0').str.replace('Product ', '')\n",
        "\n",
        "# Check the updated DataFrame\n",
        "df.head(20)"
      ],
      "metadata": {
        "colab": {
          "base_uri": "https://localhost:8080/",
          "height": 677
        },
        "id": "c1alpFQHc0Hs",
        "outputId": "92f7b552-e742-44a5-d709-7f3bf697f0ea"
      },
      "execution_count": null,
      "outputs": [
        {
          "output_type": "execute_result",
          "data": {
            "text/plain": [
              "    Sl No. Product Name Product Unit  Unit Price  Quantity  Discount  \\\n",
              "0        1            1           Pc       119.0        30      0.00   \n",
              "1        1           0            Pc       110.0         7      0.00   \n",
              "2        1            0           Pc       110.0         5      0.00   \n",
              "3        1            2           Pc       235.0        24     14.10   \n",
              "4        2           3            Pc       235.0        24     14.10   \n",
              "5        3            4           Pc       322.0        24     19.32   \n",
              "6        1            5           Pc        21.4        72      0.00   \n",
              "7        2            6           Pc        22.4        72      0.00   \n",
              "8        1            7           Pc       211.0        60     14.77   \n",
              "9        1            8           Pc       121.0         1      0.00   \n",
              "10       2            4           Pc       322.0         1      0.00   \n",
              "11       1            9           Pc       119.0        10      0.00   \n",
              "12       2           10           Pc       684.0         2      0.00   \n",
              "13       1            4           Pc       322.0        16      0.00   \n",
              "14       2           3            Pc       235.0         4      0.00   \n",
              "15       3           11           Pc       235.0        12      0.00   \n",
              "16       4           12           Pc       178.0        12      0.00   \n",
              "17       1           3            Pc       235.0         1      0.00   \n",
              "18       1           13           Pc       119.0        10      0.00   \n",
              "19       1           13           Pc       119.0        10      0.00   \n",
              "\n",
              "    Total Price  \n",
              "0        3570.0  \n",
              "1         770.0  \n",
              "2         550.0  \n",
              "3        5640.0  \n",
              "4        5640.0  \n",
              "5        7728.0  \n",
              "6        1540.8  \n",
              "7        1612.8  \n",
              "8       12660.0  \n",
              "9         121.0  \n",
              "10        322.0  \n",
              "11       1190.0  \n",
              "12       1368.0  \n",
              "13       5152.0  \n",
              "14        940.0  \n",
              "15       2820.0  \n",
              "16       2136.0  \n",
              "17        235.0  \n",
              "18       1190.0  \n",
              "19       1190.0  "
            ],
            "text/html": [
              "\n",
              "\n",
              "  <div id=\"df-00afc516-ed52-430c-b94c-7ec950a1fad5\">\n",
              "    <div class=\"colab-df-container\">\n",
              "      <div>\n",
              "<style scoped>\n",
              "    .dataframe tbody tr th:only-of-type {\n",
              "        vertical-align: middle;\n",
              "    }\n",
              "\n",
              "    .dataframe tbody tr th {\n",
              "        vertical-align: top;\n",
              "    }\n",
              "\n",
              "    .dataframe thead th {\n",
              "        text-align: right;\n",
              "    }\n",
              "</style>\n",
              "<table border=\"1\" class=\"dataframe\">\n",
              "  <thead>\n",
              "    <tr style=\"text-align: right;\">\n",
              "      <th></th>\n",
              "      <th>Sl No.</th>\n",
              "      <th>Product Name</th>\n",
              "      <th>Product Unit</th>\n",
              "      <th>Unit Price</th>\n",
              "      <th>Quantity</th>\n",
              "      <th>Discount</th>\n",
              "      <th>Total Price</th>\n",
              "    </tr>\n",
              "  </thead>\n",
              "  <tbody>\n",
              "    <tr>\n",
              "      <th>0</th>\n",
              "      <td>1</td>\n",
              "      <td>1</td>\n",
              "      <td>Pc</td>\n",
              "      <td>119.0</td>\n",
              "      <td>30</td>\n",
              "      <td>0.00</td>\n",
              "      <td>3570.0</td>\n",
              "    </tr>\n",
              "    <tr>\n",
              "      <th>1</th>\n",
              "      <td>1</td>\n",
              "      <td>0</td>\n",
              "      <td>Pc</td>\n",
              "      <td>110.0</td>\n",
              "      <td>7</td>\n",
              "      <td>0.00</td>\n",
              "      <td>770.0</td>\n",
              "    </tr>\n",
              "    <tr>\n",
              "      <th>2</th>\n",
              "      <td>1</td>\n",
              "      <td>0</td>\n",
              "      <td>Pc</td>\n",
              "      <td>110.0</td>\n",
              "      <td>5</td>\n",
              "      <td>0.00</td>\n",
              "      <td>550.0</td>\n",
              "    </tr>\n",
              "    <tr>\n",
              "      <th>3</th>\n",
              "      <td>1</td>\n",
              "      <td>2</td>\n",
              "      <td>Pc</td>\n",
              "      <td>235.0</td>\n",
              "      <td>24</td>\n",
              "      <td>14.10</td>\n",
              "      <td>5640.0</td>\n",
              "    </tr>\n",
              "    <tr>\n",
              "      <th>4</th>\n",
              "      <td>2</td>\n",
              "      <td>3</td>\n",
              "      <td>Pc</td>\n",
              "      <td>235.0</td>\n",
              "      <td>24</td>\n",
              "      <td>14.10</td>\n",
              "      <td>5640.0</td>\n",
              "    </tr>\n",
              "    <tr>\n",
              "      <th>5</th>\n",
              "      <td>3</td>\n",
              "      <td>4</td>\n",
              "      <td>Pc</td>\n",
              "      <td>322.0</td>\n",
              "      <td>24</td>\n",
              "      <td>19.32</td>\n",
              "      <td>7728.0</td>\n",
              "    </tr>\n",
              "    <tr>\n",
              "      <th>6</th>\n",
              "      <td>1</td>\n",
              "      <td>5</td>\n",
              "      <td>Pc</td>\n",
              "      <td>21.4</td>\n",
              "      <td>72</td>\n",
              "      <td>0.00</td>\n",
              "      <td>1540.8</td>\n",
              "    </tr>\n",
              "    <tr>\n",
              "      <th>7</th>\n",
              "      <td>2</td>\n",
              "      <td>6</td>\n",
              "      <td>Pc</td>\n",
              "      <td>22.4</td>\n",
              "      <td>72</td>\n",
              "      <td>0.00</td>\n",
              "      <td>1612.8</td>\n",
              "    </tr>\n",
              "    <tr>\n",
              "      <th>8</th>\n",
              "      <td>1</td>\n",
              "      <td>7</td>\n",
              "      <td>Pc</td>\n",
              "      <td>211.0</td>\n",
              "      <td>60</td>\n",
              "      <td>14.77</td>\n",
              "      <td>12660.0</td>\n",
              "    </tr>\n",
              "    <tr>\n",
              "      <th>9</th>\n",
              "      <td>1</td>\n",
              "      <td>8</td>\n",
              "      <td>Pc</td>\n",
              "      <td>121.0</td>\n",
              "      <td>1</td>\n",
              "      <td>0.00</td>\n",
              "      <td>121.0</td>\n",
              "    </tr>\n",
              "    <tr>\n",
              "      <th>10</th>\n",
              "      <td>2</td>\n",
              "      <td>4</td>\n",
              "      <td>Pc</td>\n",
              "      <td>322.0</td>\n",
              "      <td>1</td>\n",
              "      <td>0.00</td>\n",
              "      <td>322.0</td>\n",
              "    </tr>\n",
              "    <tr>\n",
              "      <th>11</th>\n",
              "      <td>1</td>\n",
              "      <td>9</td>\n",
              "      <td>Pc</td>\n",
              "      <td>119.0</td>\n",
              "      <td>10</td>\n",
              "      <td>0.00</td>\n",
              "      <td>1190.0</td>\n",
              "    </tr>\n",
              "    <tr>\n",
              "      <th>12</th>\n",
              "      <td>2</td>\n",
              "      <td>10</td>\n",
              "      <td>Pc</td>\n",
              "      <td>684.0</td>\n",
              "      <td>2</td>\n",
              "      <td>0.00</td>\n",
              "      <td>1368.0</td>\n",
              "    </tr>\n",
              "    <tr>\n",
              "      <th>13</th>\n",
              "      <td>1</td>\n",
              "      <td>4</td>\n",
              "      <td>Pc</td>\n",
              "      <td>322.0</td>\n",
              "      <td>16</td>\n",
              "      <td>0.00</td>\n",
              "      <td>5152.0</td>\n",
              "    </tr>\n",
              "    <tr>\n",
              "      <th>14</th>\n",
              "      <td>2</td>\n",
              "      <td>3</td>\n",
              "      <td>Pc</td>\n",
              "      <td>235.0</td>\n",
              "      <td>4</td>\n",
              "      <td>0.00</td>\n",
              "      <td>940.0</td>\n",
              "    </tr>\n",
              "    <tr>\n",
              "      <th>15</th>\n",
              "      <td>3</td>\n",
              "      <td>11</td>\n",
              "      <td>Pc</td>\n",
              "      <td>235.0</td>\n",
              "      <td>12</td>\n",
              "      <td>0.00</td>\n",
              "      <td>2820.0</td>\n",
              "    </tr>\n",
              "    <tr>\n",
              "      <th>16</th>\n",
              "      <td>4</td>\n",
              "      <td>12</td>\n",
              "      <td>Pc</td>\n",
              "      <td>178.0</td>\n",
              "      <td>12</td>\n",
              "      <td>0.00</td>\n",
              "      <td>2136.0</td>\n",
              "    </tr>\n",
              "    <tr>\n",
              "      <th>17</th>\n",
              "      <td>1</td>\n",
              "      <td>3</td>\n",
              "      <td>Pc</td>\n",
              "      <td>235.0</td>\n",
              "      <td>1</td>\n",
              "      <td>0.00</td>\n",
              "      <td>235.0</td>\n",
              "    </tr>\n",
              "    <tr>\n",
              "      <th>18</th>\n",
              "      <td>1</td>\n",
              "      <td>13</td>\n",
              "      <td>Pc</td>\n",
              "      <td>119.0</td>\n",
              "      <td>10</td>\n",
              "      <td>0.00</td>\n",
              "      <td>1190.0</td>\n",
              "    </tr>\n",
              "    <tr>\n",
              "      <th>19</th>\n",
              "      <td>1</td>\n",
              "      <td>13</td>\n",
              "      <td>Pc</td>\n",
              "      <td>119.0</td>\n",
              "      <td>10</td>\n",
              "      <td>0.00</td>\n",
              "      <td>1190.0</td>\n",
              "    </tr>\n",
              "  </tbody>\n",
              "</table>\n",
              "</div>\n",
              "      <button class=\"colab-df-convert\" onclick=\"convertToInteractive('df-00afc516-ed52-430c-b94c-7ec950a1fad5')\"\n",
              "              title=\"Convert this dataframe to an interactive table.\"\n",
              "              style=\"display:none;\">\n",
              "\n",
              "  <svg xmlns=\"http://www.w3.org/2000/svg\" height=\"24px\"viewBox=\"0 0 24 24\"\n",
              "       width=\"24px\">\n",
              "    <path d=\"M0 0h24v24H0V0z\" fill=\"none\"/>\n",
              "    <path d=\"M18.56 5.44l.94 2.06.94-2.06 2.06-.94-2.06-.94-.94-2.06-.94 2.06-2.06.94zm-11 1L8.5 8.5l.94-2.06 2.06-.94-2.06-.94L8.5 2.5l-.94 2.06-2.06.94zm10 10l.94 2.06.94-2.06 2.06-.94-2.06-.94-.94-2.06-.94 2.06-2.06.94z\"/><path d=\"M17.41 7.96l-1.37-1.37c-.4-.4-.92-.59-1.43-.59-.52 0-1.04.2-1.43.59L10.3 9.45l-7.72 7.72c-.78.78-.78 2.05 0 2.83L4 21.41c.39.39.9.59 1.41.59.51 0 1.02-.2 1.41-.59l7.78-7.78 2.81-2.81c.8-.78.8-2.07 0-2.86zM5.41 20L4 18.59l7.72-7.72 1.47 1.35L5.41 20z\"/>\n",
              "  </svg>\n",
              "      </button>\n",
              "\n",
              "\n",
              "\n",
              "    <div id=\"df-099ff0d5-7a59-420e-8a26-7fee8f77712f\">\n",
              "      <button class=\"colab-df-quickchart\" onclick=\"quickchart('df-099ff0d5-7a59-420e-8a26-7fee8f77712f')\"\n",
              "              title=\"Suggest charts.\"\n",
              "              style=\"display:none;\">\n",
              "\n",
              "<svg xmlns=\"http://www.w3.org/2000/svg\" height=\"24px\"viewBox=\"0 0 24 24\"\n",
              "     width=\"24px\">\n",
              "    <g>\n",
              "        <path d=\"M19 3H5c-1.1 0-2 .9-2 2v14c0 1.1.9 2 2 2h14c1.1 0 2-.9 2-2V5c0-1.1-.9-2-2-2zM9 17H7v-7h2v7zm4 0h-2V7h2v10zm4 0h-2v-4h2v4z\"/>\n",
              "    </g>\n",
              "</svg>\n",
              "      </button>\n",
              "    </div>\n",
              "\n",
              "<style>\n",
              "  .colab-df-quickchart {\n",
              "    background-color: #E8F0FE;\n",
              "    border: none;\n",
              "    border-radius: 50%;\n",
              "    cursor: pointer;\n",
              "    display: none;\n",
              "    fill: #1967D2;\n",
              "    height: 32px;\n",
              "    padding: 0 0 0 0;\n",
              "    width: 32px;\n",
              "  }\n",
              "\n",
              "  .colab-df-quickchart:hover {\n",
              "    background-color: #E2EBFA;\n",
              "    box-shadow: 0px 1px 2px rgba(60, 64, 67, 0.3), 0px 1px 3px 1px rgba(60, 64, 67, 0.15);\n",
              "    fill: #174EA6;\n",
              "  }\n",
              "\n",
              "  [theme=dark] .colab-df-quickchart {\n",
              "    background-color: #3B4455;\n",
              "    fill: #D2E3FC;\n",
              "  }\n",
              "\n",
              "  [theme=dark] .colab-df-quickchart:hover {\n",
              "    background-color: #434B5C;\n",
              "    box-shadow: 0px 1px 3px 1px rgba(0, 0, 0, 0.15);\n",
              "    filter: drop-shadow(0px 1px 2px rgba(0, 0, 0, 0.3));\n",
              "    fill: #FFFFFF;\n",
              "  }\n",
              "</style>\n",
              "\n",
              "    <script>\n",
              "      async function quickchart(key) {\n",
              "        const containerElement = document.querySelector('#' + key);\n",
              "        const charts = await google.colab.kernel.invokeFunction(\n",
              "            'suggestCharts', [key], {});\n",
              "      }\n",
              "    </script>\n",
              "\n",
              "      <script>\n",
              "\n",
              "function displayQuickchartButton(domScope) {\n",
              "  let quickchartButtonEl =\n",
              "    domScope.querySelector('#df-099ff0d5-7a59-420e-8a26-7fee8f77712f button.colab-df-quickchart');\n",
              "  quickchartButtonEl.style.display =\n",
              "    google.colab.kernel.accessAllowed ? 'block' : 'none';\n",
              "}\n",
              "\n",
              "        displayQuickchartButton(document);\n",
              "      </script>\n",
              "      <style>\n",
              "    .colab-df-container {\n",
              "      display:flex;\n",
              "      flex-wrap:wrap;\n",
              "      gap: 12px;\n",
              "    }\n",
              "\n",
              "    .colab-df-convert {\n",
              "      background-color: #E8F0FE;\n",
              "      border: none;\n",
              "      border-radius: 50%;\n",
              "      cursor: pointer;\n",
              "      display: none;\n",
              "      fill: #1967D2;\n",
              "      height: 32px;\n",
              "      padding: 0 0 0 0;\n",
              "      width: 32px;\n",
              "    }\n",
              "\n",
              "    .colab-df-convert:hover {\n",
              "      background-color: #E2EBFA;\n",
              "      box-shadow: 0px 1px 2px rgba(60, 64, 67, 0.3), 0px 1px 3px 1px rgba(60, 64, 67, 0.15);\n",
              "      fill: #174EA6;\n",
              "    }\n",
              "\n",
              "    [theme=dark] .colab-df-convert {\n",
              "      background-color: #3B4455;\n",
              "      fill: #D2E3FC;\n",
              "    }\n",
              "\n",
              "    [theme=dark] .colab-df-convert:hover {\n",
              "      background-color: #434B5C;\n",
              "      box-shadow: 0px 1px 3px 1px rgba(0, 0, 0, 0.15);\n",
              "      filter: drop-shadow(0px 1px 2px rgba(0, 0, 0, 0.3));\n",
              "      fill: #FFFFFF;\n",
              "    }\n",
              "  </style>\n",
              "\n",
              "      <script>\n",
              "        const buttonEl =\n",
              "          document.querySelector('#df-00afc516-ed52-430c-b94c-7ec950a1fad5 button.colab-df-convert');\n",
              "        buttonEl.style.display =\n",
              "          google.colab.kernel.accessAllowed ? 'block' : 'none';\n",
              "\n",
              "        async function convertToInteractive(key) {\n",
              "          const element = document.querySelector('#df-00afc516-ed52-430c-b94c-7ec950a1fad5');\n",
              "          const dataTable =\n",
              "            await google.colab.kernel.invokeFunction('convertToInteractive',\n",
              "                                                     [key], {});\n",
              "          if (!dataTable) return;\n",
              "\n",
              "          const docLinkHtml = 'Like what you see? Visit the ' +\n",
              "            '<a target=\"_blank\" href=https://colab.research.google.com/notebooks/data_table.ipynb>data table notebook</a>'\n",
              "            + ' to learn more about interactive tables.';\n",
              "          element.innerHTML = '';\n",
              "          dataTable['output_type'] = 'display_data';\n",
              "          await google.colab.output.renderOutput(dataTable, element);\n",
              "          const docLink = document.createElement('div');\n",
              "          docLink.innerHTML = docLinkHtml;\n",
              "          element.appendChild(docLink);\n",
              "        }\n",
              "      </script>\n",
              "    </div>\n",
              "  </div>\n"
            ]
          },
          "metadata": {},
          "execution_count": 14
        }
      ]
    },
    {
      "cell_type": "markdown",
      "source": [
        "**`Product Unit`** Column"
      ],
      "metadata": {
        "id": "robvMqAnddi3"
      }
    },
    {
      "cell_type": "code",
      "source": [
        "df['Product Unit'].value_counts()"
      ],
      "metadata": {
        "colab": {
          "base_uri": "https://localhost:8080/"
        },
        "id": "_P4cVzYKdnyA",
        "outputId": "16903029-77ea-4ef6-8298-c07fcbb3476b"
      },
      "execution_count": null,
      "outputs": [
        {
          "output_type": "execute_result",
          "data": {
            "text/plain": [
              "Pc    708\n",
              "Name: Product Unit, dtype: int64"
            ]
          },
          "metadata": {},
          "execution_count": 15
        }
      ]
    },
    {
      "cell_type": "markdown",
      "source": [
        "In the **`Product Unit`** column there is only one type of product (Pc). So we can drop the column as there won't be any impact for further analysis."
      ],
      "metadata": {
        "id": "dB6YioaJduBF"
      }
    },
    {
      "cell_type": "code",
      "source": [
        "# Droping \"Product Unit\" column\n",
        "df = df.drop(['Product Unit'], axis=1)\n",
        "df.head()"
      ],
      "metadata": {
        "colab": {
          "base_uri": "https://localhost:8080/",
          "height": 206
        },
        "id": "FFpJpVKAd52W",
        "outputId": "672f87c6-e684-49dc-a1cd-1a73f8ff61d2"
      },
      "execution_count": null,
      "outputs": [
        {
          "output_type": "execute_result",
          "data": {
            "text/plain": [
              "   Sl No. Product Name  Unit Price  Quantity  Discount  Total Price\n",
              "0       1            1       119.0        30       0.0       3570.0\n",
              "1       1           0        110.0         7       0.0        770.0\n",
              "2       1            0       110.0         5       0.0        550.0\n",
              "3       1            2       235.0        24      14.1       5640.0\n",
              "4       2           3        235.0        24      14.1       5640.0"
            ],
            "text/html": [
              "\n",
              "\n",
              "  <div id=\"df-6686789f-ac3f-4c4f-8f3b-825c267c29e6\">\n",
              "    <div class=\"colab-df-container\">\n",
              "      <div>\n",
              "<style scoped>\n",
              "    .dataframe tbody tr th:only-of-type {\n",
              "        vertical-align: middle;\n",
              "    }\n",
              "\n",
              "    .dataframe tbody tr th {\n",
              "        vertical-align: top;\n",
              "    }\n",
              "\n",
              "    .dataframe thead th {\n",
              "        text-align: right;\n",
              "    }\n",
              "</style>\n",
              "<table border=\"1\" class=\"dataframe\">\n",
              "  <thead>\n",
              "    <tr style=\"text-align: right;\">\n",
              "      <th></th>\n",
              "      <th>Sl No.</th>\n",
              "      <th>Product Name</th>\n",
              "      <th>Unit Price</th>\n",
              "      <th>Quantity</th>\n",
              "      <th>Discount</th>\n",
              "      <th>Total Price</th>\n",
              "    </tr>\n",
              "  </thead>\n",
              "  <tbody>\n",
              "    <tr>\n",
              "      <th>0</th>\n",
              "      <td>1</td>\n",
              "      <td>1</td>\n",
              "      <td>119.0</td>\n",
              "      <td>30</td>\n",
              "      <td>0.0</td>\n",
              "      <td>3570.0</td>\n",
              "    </tr>\n",
              "    <tr>\n",
              "      <th>1</th>\n",
              "      <td>1</td>\n",
              "      <td>0</td>\n",
              "      <td>110.0</td>\n",
              "      <td>7</td>\n",
              "      <td>0.0</td>\n",
              "      <td>770.0</td>\n",
              "    </tr>\n",
              "    <tr>\n",
              "      <th>2</th>\n",
              "      <td>1</td>\n",
              "      <td>0</td>\n",
              "      <td>110.0</td>\n",
              "      <td>5</td>\n",
              "      <td>0.0</td>\n",
              "      <td>550.0</td>\n",
              "    </tr>\n",
              "    <tr>\n",
              "      <th>3</th>\n",
              "      <td>1</td>\n",
              "      <td>2</td>\n",
              "      <td>235.0</td>\n",
              "      <td>24</td>\n",
              "      <td>14.1</td>\n",
              "      <td>5640.0</td>\n",
              "    </tr>\n",
              "    <tr>\n",
              "      <th>4</th>\n",
              "      <td>2</td>\n",
              "      <td>3</td>\n",
              "      <td>235.0</td>\n",
              "      <td>24</td>\n",
              "      <td>14.1</td>\n",
              "      <td>5640.0</td>\n",
              "    </tr>\n",
              "  </tbody>\n",
              "</table>\n",
              "</div>\n",
              "      <button class=\"colab-df-convert\" onclick=\"convertToInteractive('df-6686789f-ac3f-4c4f-8f3b-825c267c29e6')\"\n",
              "              title=\"Convert this dataframe to an interactive table.\"\n",
              "              style=\"display:none;\">\n",
              "\n",
              "  <svg xmlns=\"http://www.w3.org/2000/svg\" height=\"24px\"viewBox=\"0 0 24 24\"\n",
              "       width=\"24px\">\n",
              "    <path d=\"M0 0h24v24H0V0z\" fill=\"none\"/>\n",
              "    <path d=\"M18.56 5.44l.94 2.06.94-2.06 2.06-.94-2.06-.94-.94-2.06-.94 2.06-2.06.94zm-11 1L8.5 8.5l.94-2.06 2.06-.94-2.06-.94L8.5 2.5l-.94 2.06-2.06.94zm10 10l.94 2.06.94-2.06 2.06-.94-2.06-.94-.94-2.06-.94 2.06-2.06.94z\"/><path d=\"M17.41 7.96l-1.37-1.37c-.4-.4-.92-.59-1.43-.59-.52 0-1.04.2-1.43.59L10.3 9.45l-7.72 7.72c-.78.78-.78 2.05 0 2.83L4 21.41c.39.39.9.59 1.41.59.51 0 1.02-.2 1.41-.59l7.78-7.78 2.81-2.81c.8-.78.8-2.07 0-2.86zM5.41 20L4 18.59l7.72-7.72 1.47 1.35L5.41 20z\"/>\n",
              "  </svg>\n",
              "      </button>\n",
              "\n",
              "\n",
              "\n",
              "    <div id=\"df-462c685c-feba-4434-bebc-aab9e6831d58\">\n",
              "      <button class=\"colab-df-quickchart\" onclick=\"quickchart('df-462c685c-feba-4434-bebc-aab9e6831d58')\"\n",
              "              title=\"Suggest charts.\"\n",
              "              style=\"display:none;\">\n",
              "\n",
              "<svg xmlns=\"http://www.w3.org/2000/svg\" height=\"24px\"viewBox=\"0 0 24 24\"\n",
              "     width=\"24px\">\n",
              "    <g>\n",
              "        <path d=\"M19 3H5c-1.1 0-2 .9-2 2v14c0 1.1.9 2 2 2h14c1.1 0 2-.9 2-2V5c0-1.1-.9-2-2-2zM9 17H7v-7h2v7zm4 0h-2V7h2v10zm4 0h-2v-4h2v4z\"/>\n",
              "    </g>\n",
              "</svg>\n",
              "      </button>\n",
              "    </div>\n",
              "\n",
              "<style>\n",
              "  .colab-df-quickchart {\n",
              "    background-color: #E8F0FE;\n",
              "    border: none;\n",
              "    border-radius: 50%;\n",
              "    cursor: pointer;\n",
              "    display: none;\n",
              "    fill: #1967D2;\n",
              "    height: 32px;\n",
              "    padding: 0 0 0 0;\n",
              "    width: 32px;\n",
              "  }\n",
              "\n",
              "  .colab-df-quickchart:hover {\n",
              "    background-color: #E2EBFA;\n",
              "    box-shadow: 0px 1px 2px rgba(60, 64, 67, 0.3), 0px 1px 3px 1px rgba(60, 64, 67, 0.15);\n",
              "    fill: #174EA6;\n",
              "  }\n",
              "\n",
              "  [theme=dark] .colab-df-quickchart {\n",
              "    background-color: #3B4455;\n",
              "    fill: #D2E3FC;\n",
              "  }\n",
              "\n",
              "  [theme=dark] .colab-df-quickchart:hover {\n",
              "    background-color: #434B5C;\n",
              "    box-shadow: 0px 1px 3px 1px rgba(0, 0, 0, 0.15);\n",
              "    filter: drop-shadow(0px 1px 2px rgba(0, 0, 0, 0.3));\n",
              "    fill: #FFFFFF;\n",
              "  }\n",
              "</style>\n",
              "\n",
              "    <script>\n",
              "      async function quickchart(key) {\n",
              "        const containerElement = document.querySelector('#' + key);\n",
              "        const charts = await google.colab.kernel.invokeFunction(\n",
              "            'suggestCharts', [key], {});\n",
              "      }\n",
              "    </script>\n",
              "\n",
              "      <script>\n",
              "\n",
              "function displayQuickchartButton(domScope) {\n",
              "  let quickchartButtonEl =\n",
              "    domScope.querySelector('#df-462c685c-feba-4434-bebc-aab9e6831d58 button.colab-df-quickchart');\n",
              "  quickchartButtonEl.style.display =\n",
              "    google.colab.kernel.accessAllowed ? 'block' : 'none';\n",
              "}\n",
              "\n",
              "        displayQuickchartButton(document);\n",
              "      </script>\n",
              "      <style>\n",
              "    .colab-df-container {\n",
              "      display:flex;\n",
              "      flex-wrap:wrap;\n",
              "      gap: 12px;\n",
              "    }\n",
              "\n",
              "    .colab-df-convert {\n",
              "      background-color: #E8F0FE;\n",
              "      border: none;\n",
              "      border-radius: 50%;\n",
              "      cursor: pointer;\n",
              "      display: none;\n",
              "      fill: #1967D2;\n",
              "      height: 32px;\n",
              "      padding: 0 0 0 0;\n",
              "      width: 32px;\n",
              "    }\n",
              "\n",
              "    .colab-df-convert:hover {\n",
              "      background-color: #E2EBFA;\n",
              "      box-shadow: 0px 1px 2px rgba(60, 64, 67, 0.3), 0px 1px 3px 1px rgba(60, 64, 67, 0.15);\n",
              "      fill: #174EA6;\n",
              "    }\n",
              "\n",
              "    [theme=dark] .colab-df-convert {\n",
              "      background-color: #3B4455;\n",
              "      fill: #D2E3FC;\n",
              "    }\n",
              "\n",
              "    [theme=dark] .colab-df-convert:hover {\n",
              "      background-color: #434B5C;\n",
              "      box-shadow: 0px 1px 3px 1px rgba(0, 0, 0, 0.15);\n",
              "      filter: drop-shadow(0px 1px 2px rgba(0, 0, 0, 0.3));\n",
              "      fill: #FFFFFF;\n",
              "    }\n",
              "  </style>\n",
              "\n",
              "      <script>\n",
              "        const buttonEl =\n",
              "          document.querySelector('#df-6686789f-ac3f-4c4f-8f3b-825c267c29e6 button.colab-df-convert');\n",
              "        buttonEl.style.display =\n",
              "          google.colab.kernel.accessAllowed ? 'block' : 'none';\n",
              "\n",
              "        async function convertToInteractive(key) {\n",
              "          const element = document.querySelector('#df-6686789f-ac3f-4c4f-8f3b-825c267c29e6');\n",
              "          const dataTable =\n",
              "            await google.colab.kernel.invokeFunction('convertToInteractive',\n",
              "                                                     [key], {});\n",
              "          if (!dataTable) return;\n",
              "\n",
              "          const docLinkHtml = 'Like what you see? Visit the ' +\n",
              "            '<a target=\"_blank\" href=https://colab.research.google.com/notebooks/data_table.ipynb>data table notebook</a>'\n",
              "            + ' to learn more about interactive tables.';\n",
              "          element.innerHTML = '';\n",
              "          dataTable['output_type'] = 'display_data';\n",
              "          await google.colab.output.renderOutput(dataTable, element);\n",
              "          const docLink = document.createElement('div');\n",
              "          docLink.innerHTML = docLinkHtml;\n",
              "          element.appendChild(docLink);\n",
              "        }\n",
              "      </script>\n",
              "    </div>\n",
              "  </div>\n"
            ]
          },
          "metadata": {},
          "execution_count": 16
        }
      ]
    },
    {
      "cell_type": "markdown",
      "source": [
        "# 6. Drawing correlation, covariance matrix"
      ],
      "metadata": {
        "id": "mtyChENVd_WI"
      }
    },
    {
      "cell_type": "markdown",
      "source": [
        "For correlation and covariance matrix we will select\n",
        "\n",
        "`Unit Price`, `Quantity`, `Discount`, `Total Price` columns."
      ],
      "metadata": {
        "id": "audUN8DEeRnA"
      }
    },
    {
      "cell_type": "code",
      "source": [
        "mat_col = df[['Unit Price','Quantity','Discount','Total Price']]\n",
        "mat_col"
      ],
      "metadata": {
        "colab": {
          "base_uri": "https://localhost:8080/",
          "height": 424
        },
        "id": "r3cdNrRyeCoo",
        "outputId": "c151987d-7121-4441-fc72-94c0a455d8c9"
      },
      "execution_count": null,
      "outputs": [
        {
          "output_type": "execute_result",
          "data": {
            "text/plain": [
              "     Unit Price  Quantity  Discount  Total Price\n",
              "0         119.0        30      0.00       3570.0\n",
              "1         110.0         7      0.00        770.0\n",
              "2         110.0         5      0.00        550.0\n",
              "3         235.0        24     14.10       5640.0\n",
              "4         235.0        24     14.10       5640.0\n",
              "..          ...       ...       ...          ...\n",
              "703       235.0        12     14.10       2820.0\n",
              "704       211.0        48     12.66      10128.0\n",
              "705       211.0        48     12.66      10128.0\n",
              "706       119.0        10      3.00       1190.0\n",
              "707       119.0        20      3.00       2380.0\n",
              "\n",
              "[708 rows x 4 columns]"
            ],
            "text/html": [
              "\n",
              "\n",
              "  <div id=\"df-036ebb54-bb2d-41f8-8c44-ca4d56313f91\">\n",
              "    <div class=\"colab-df-container\">\n",
              "      <div>\n",
              "<style scoped>\n",
              "    .dataframe tbody tr th:only-of-type {\n",
              "        vertical-align: middle;\n",
              "    }\n",
              "\n",
              "    .dataframe tbody tr th {\n",
              "        vertical-align: top;\n",
              "    }\n",
              "\n",
              "    .dataframe thead th {\n",
              "        text-align: right;\n",
              "    }\n",
              "</style>\n",
              "<table border=\"1\" class=\"dataframe\">\n",
              "  <thead>\n",
              "    <tr style=\"text-align: right;\">\n",
              "      <th></th>\n",
              "      <th>Unit Price</th>\n",
              "      <th>Quantity</th>\n",
              "      <th>Discount</th>\n",
              "      <th>Total Price</th>\n",
              "    </tr>\n",
              "  </thead>\n",
              "  <tbody>\n",
              "    <tr>\n",
              "      <th>0</th>\n",
              "      <td>119.0</td>\n",
              "      <td>30</td>\n",
              "      <td>0.00</td>\n",
              "      <td>3570.0</td>\n",
              "    </tr>\n",
              "    <tr>\n",
              "      <th>1</th>\n",
              "      <td>110.0</td>\n",
              "      <td>7</td>\n",
              "      <td>0.00</td>\n",
              "      <td>770.0</td>\n",
              "    </tr>\n",
              "    <tr>\n",
              "      <th>2</th>\n",
              "      <td>110.0</td>\n",
              "      <td>5</td>\n",
              "      <td>0.00</td>\n",
              "      <td>550.0</td>\n",
              "    </tr>\n",
              "    <tr>\n",
              "      <th>3</th>\n",
              "      <td>235.0</td>\n",
              "      <td>24</td>\n",
              "      <td>14.10</td>\n",
              "      <td>5640.0</td>\n",
              "    </tr>\n",
              "    <tr>\n",
              "      <th>4</th>\n",
              "      <td>235.0</td>\n",
              "      <td>24</td>\n",
              "      <td>14.10</td>\n",
              "      <td>5640.0</td>\n",
              "    </tr>\n",
              "    <tr>\n",
              "      <th>...</th>\n",
              "      <td>...</td>\n",
              "      <td>...</td>\n",
              "      <td>...</td>\n",
              "      <td>...</td>\n",
              "    </tr>\n",
              "    <tr>\n",
              "      <th>703</th>\n",
              "      <td>235.0</td>\n",
              "      <td>12</td>\n",
              "      <td>14.10</td>\n",
              "      <td>2820.0</td>\n",
              "    </tr>\n",
              "    <tr>\n",
              "      <th>704</th>\n",
              "      <td>211.0</td>\n",
              "      <td>48</td>\n",
              "      <td>12.66</td>\n",
              "      <td>10128.0</td>\n",
              "    </tr>\n",
              "    <tr>\n",
              "      <th>705</th>\n",
              "      <td>211.0</td>\n",
              "      <td>48</td>\n",
              "      <td>12.66</td>\n",
              "      <td>10128.0</td>\n",
              "    </tr>\n",
              "    <tr>\n",
              "      <th>706</th>\n",
              "      <td>119.0</td>\n",
              "      <td>10</td>\n",
              "      <td>3.00</td>\n",
              "      <td>1190.0</td>\n",
              "    </tr>\n",
              "    <tr>\n",
              "      <th>707</th>\n",
              "      <td>119.0</td>\n",
              "      <td>20</td>\n",
              "      <td>3.00</td>\n",
              "      <td>2380.0</td>\n",
              "    </tr>\n",
              "  </tbody>\n",
              "</table>\n",
              "<p>708 rows × 4 columns</p>\n",
              "</div>\n",
              "      <button class=\"colab-df-convert\" onclick=\"convertToInteractive('df-036ebb54-bb2d-41f8-8c44-ca4d56313f91')\"\n",
              "              title=\"Convert this dataframe to an interactive table.\"\n",
              "              style=\"display:none;\">\n",
              "\n",
              "  <svg xmlns=\"http://www.w3.org/2000/svg\" height=\"24px\"viewBox=\"0 0 24 24\"\n",
              "       width=\"24px\">\n",
              "    <path d=\"M0 0h24v24H0V0z\" fill=\"none\"/>\n",
              "    <path d=\"M18.56 5.44l.94 2.06.94-2.06 2.06-.94-2.06-.94-.94-2.06-.94 2.06-2.06.94zm-11 1L8.5 8.5l.94-2.06 2.06-.94-2.06-.94L8.5 2.5l-.94 2.06-2.06.94zm10 10l.94 2.06.94-2.06 2.06-.94-2.06-.94-.94-2.06-.94 2.06-2.06.94z\"/><path d=\"M17.41 7.96l-1.37-1.37c-.4-.4-.92-.59-1.43-.59-.52 0-1.04.2-1.43.59L10.3 9.45l-7.72 7.72c-.78.78-.78 2.05 0 2.83L4 21.41c.39.39.9.59 1.41.59.51 0 1.02-.2 1.41-.59l7.78-7.78 2.81-2.81c.8-.78.8-2.07 0-2.86zM5.41 20L4 18.59l7.72-7.72 1.47 1.35L5.41 20z\"/>\n",
              "  </svg>\n",
              "      </button>\n",
              "\n",
              "\n",
              "\n",
              "    <div id=\"df-e1cbadb7-2073-43eb-91c8-ccb2bd63dbb9\">\n",
              "      <button class=\"colab-df-quickchart\" onclick=\"quickchart('df-e1cbadb7-2073-43eb-91c8-ccb2bd63dbb9')\"\n",
              "              title=\"Suggest charts.\"\n",
              "              style=\"display:none;\">\n",
              "\n",
              "<svg xmlns=\"http://www.w3.org/2000/svg\" height=\"24px\"viewBox=\"0 0 24 24\"\n",
              "     width=\"24px\">\n",
              "    <g>\n",
              "        <path d=\"M19 3H5c-1.1 0-2 .9-2 2v14c0 1.1.9 2 2 2h14c1.1 0 2-.9 2-2V5c0-1.1-.9-2-2-2zM9 17H7v-7h2v7zm4 0h-2V7h2v10zm4 0h-2v-4h2v4z\"/>\n",
              "    </g>\n",
              "</svg>\n",
              "      </button>\n",
              "    </div>\n",
              "\n",
              "<style>\n",
              "  .colab-df-quickchart {\n",
              "    background-color: #E8F0FE;\n",
              "    border: none;\n",
              "    border-radius: 50%;\n",
              "    cursor: pointer;\n",
              "    display: none;\n",
              "    fill: #1967D2;\n",
              "    height: 32px;\n",
              "    padding: 0 0 0 0;\n",
              "    width: 32px;\n",
              "  }\n",
              "\n",
              "  .colab-df-quickchart:hover {\n",
              "    background-color: #E2EBFA;\n",
              "    box-shadow: 0px 1px 2px rgba(60, 64, 67, 0.3), 0px 1px 3px 1px rgba(60, 64, 67, 0.15);\n",
              "    fill: #174EA6;\n",
              "  }\n",
              "\n",
              "  [theme=dark] .colab-df-quickchart {\n",
              "    background-color: #3B4455;\n",
              "    fill: #D2E3FC;\n",
              "  }\n",
              "\n",
              "  [theme=dark] .colab-df-quickchart:hover {\n",
              "    background-color: #434B5C;\n",
              "    box-shadow: 0px 1px 3px 1px rgba(0, 0, 0, 0.15);\n",
              "    filter: drop-shadow(0px 1px 2px rgba(0, 0, 0, 0.3));\n",
              "    fill: #FFFFFF;\n",
              "  }\n",
              "</style>\n",
              "\n",
              "    <script>\n",
              "      async function quickchart(key) {\n",
              "        const containerElement = document.querySelector('#' + key);\n",
              "        const charts = await google.colab.kernel.invokeFunction(\n",
              "            'suggestCharts', [key], {});\n",
              "      }\n",
              "    </script>\n",
              "\n",
              "      <script>\n",
              "\n",
              "function displayQuickchartButton(domScope) {\n",
              "  let quickchartButtonEl =\n",
              "    domScope.querySelector('#df-e1cbadb7-2073-43eb-91c8-ccb2bd63dbb9 button.colab-df-quickchart');\n",
              "  quickchartButtonEl.style.display =\n",
              "    google.colab.kernel.accessAllowed ? 'block' : 'none';\n",
              "}\n",
              "\n",
              "        displayQuickchartButton(document);\n",
              "      </script>\n",
              "      <style>\n",
              "    .colab-df-container {\n",
              "      display:flex;\n",
              "      flex-wrap:wrap;\n",
              "      gap: 12px;\n",
              "    }\n",
              "\n",
              "    .colab-df-convert {\n",
              "      background-color: #E8F0FE;\n",
              "      border: none;\n",
              "      border-radius: 50%;\n",
              "      cursor: pointer;\n",
              "      display: none;\n",
              "      fill: #1967D2;\n",
              "      height: 32px;\n",
              "      padding: 0 0 0 0;\n",
              "      width: 32px;\n",
              "    }\n",
              "\n",
              "    .colab-df-convert:hover {\n",
              "      background-color: #E2EBFA;\n",
              "      box-shadow: 0px 1px 2px rgba(60, 64, 67, 0.3), 0px 1px 3px 1px rgba(60, 64, 67, 0.15);\n",
              "      fill: #174EA6;\n",
              "    }\n",
              "\n",
              "    [theme=dark] .colab-df-convert {\n",
              "      background-color: #3B4455;\n",
              "      fill: #D2E3FC;\n",
              "    }\n",
              "\n",
              "    [theme=dark] .colab-df-convert:hover {\n",
              "      background-color: #434B5C;\n",
              "      box-shadow: 0px 1px 3px 1px rgba(0, 0, 0, 0.15);\n",
              "      filter: drop-shadow(0px 1px 2px rgba(0, 0, 0, 0.3));\n",
              "      fill: #FFFFFF;\n",
              "    }\n",
              "  </style>\n",
              "\n",
              "      <script>\n",
              "        const buttonEl =\n",
              "          document.querySelector('#df-036ebb54-bb2d-41f8-8c44-ca4d56313f91 button.colab-df-convert');\n",
              "        buttonEl.style.display =\n",
              "          google.colab.kernel.accessAllowed ? 'block' : 'none';\n",
              "\n",
              "        async function convertToInteractive(key) {\n",
              "          const element = document.querySelector('#df-036ebb54-bb2d-41f8-8c44-ca4d56313f91');\n",
              "          const dataTable =\n",
              "            await google.colab.kernel.invokeFunction('convertToInteractive',\n",
              "                                                     [key], {});\n",
              "          if (!dataTable) return;\n",
              "\n",
              "          const docLinkHtml = 'Like what you see? Visit the ' +\n",
              "            '<a target=\"_blank\" href=https://colab.research.google.com/notebooks/data_table.ipynb>data table notebook</a>'\n",
              "            + ' to learn more about interactive tables.';\n",
              "          element.innerHTML = '';\n",
              "          dataTable['output_type'] = 'display_data';\n",
              "          await google.colab.output.renderOutput(dataTable, element);\n",
              "          const docLink = document.createElement('div');\n",
              "          docLink.innerHTML = docLinkHtml;\n",
              "          element.appendChild(docLink);\n",
              "        }\n",
              "      </script>\n",
              "    </div>\n",
              "  </div>\n"
            ]
          },
          "metadata": {},
          "execution_count": 17
        }
      ]
    },
    {
      "cell_type": "markdown",
      "source": [
        "## **Correlation between features**"
      ],
      "metadata": {
        "id": "4y_RI3kaeq4o"
      }
    },
    {
      "cell_type": "code",
      "source": [
        "mat_col.corr().style.format(format_dict)"
      ],
      "metadata": {
        "colab": {
          "base_uri": "https://localhost:8080/",
          "height": 175
        },
        "id": "6dU-EYJQetCo",
        "outputId": "9f48ac16-fe1d-4eb0-9841-c67bd696dc92"
      },
      "execution_count": null,
      "outputs": [
        {
          "output_type": "execute_result",
          "data": {
            "text/plain": [
              "<pandas.io.formats.style.Styler at 0x7c026466aa70>"
            ],
            "text/html": [
              "<style type=\"text/css\">\n",
              "</style>\n",
              "<table id=\"T_cd97c\" class=\"dataframe\">\n",
              "  <thead>\n",
              "    <tr>\n",
              "      <th class=\"blank level0\" >&nbsp;</th>\n",
              "      <th id=\"T_cd97c_level0_col0\" class=\"col_heading level0 col0\" >Unit Price</th>\n",
              "      <th id=\"T_cd97c_level0_col1\" class=\"col_heading level0 col1\" >Quantity</th>\n",
              "      <th id=\"T_cd97c_level0_col2\" class=\"col_heading level0 col2\" >Discount</th>\n",
              "      <th id=\"T_cd97c_level0_col3\" class=\"col_heading level0 col3\" >Total Price</th>\n",
              "    </tr>\n",
              "  </thead>\n",
              "  <tbody>\n",
              "    <tr>\n",
              "      <th id=\"T_cd97c_level0_row0\" class=\"row_heading level0 row0\" >Unit Price</th>\n",
              "      <td id=\"T_cd97c_row0_col0\" class=\"data row0 col0\" >$1.00</td>\n",
              "      <td id=\"T_cd97c_row0_col1\" class=\"data row0 col1\" >-0.26</td>\n",
              "      <td id=\"T_cd97c_row0_col2\" class=\"data row0 col2\" >$0.13</td>\n",
              "      <td id=\"T_cd97c_row0_col3\" class=\"data row0 col3\" >$0.23</td>\n",
              "    </tr>\n",
              "    <tr>\n",
              "      <th id=\"T_cd97c_level0_row1\" class=\"row_heading level0 row1\" >Quantity</th>\n",
              "      <td id=\"T_cd97c_row1_col0\" class=\"data row1 col0\" >$-0.26</td>\n",
              "      <td id=\"T_cd97c_row1_col1\" class=\"data row1 col1\" >1.00</td>\n",
              "      <td id=\"T_cd97c_row1_col2\" class=\"data row1 col2\" >$-0.06</td>\n",
              "      <td id=\"T_cd97c_row1_col3\" class=\"data row1 col3\" >$0.40</td>\n",
              "    </tr>\n",
              "    <tr>\n",
              "      <th id=\"T_cd97c_level0_row2\" class=\"row_heading level0 row2\" >Discount</th>\n",
              "      <td id=\"T_cd97c_row2_col0\" class=\"data row2 col0\" >$0.13</td>\n",
              "      <td id=\"T_cd97c_row2_col1\" class=\"data row2 col1\" >-0.06</td>\n",
              "      <td id=\"T_cd97c_row2_col2\" class=\"data row2 col2\" >$1.00</td>\n",
              "      <td id=\"T_cd97c_row2_col3\" class=\"data row2 col3\" >$0.08</td>\n",
              "    </tr>\n",
              "    <tr>\n",
              "      <th id=\"T_cd97c_level0_row3\" class=\"row_heading level0 row3\" >Total Price</th>\n",
              "      <td id=\"T_cd97c_row3_col0\" class=\"data row3 col0\" >$0.23</td>\n",
              "      <td id=\"T_cd97c_row3_col1\" class=\"data row3 col1\" >0.40</td>\n",
              "      <td id=\"T_cd97c_row3_col2\" class=\"data row3 col2\" >$0.08</td>\n",
              "      <td id=\"T_cd97c_row3_col3\" class=\"data row3 col3\" >$1.00</td>\n",
              "    </tr>\n",
              "  </tbody>\n",
              "</table>\n"
            ]
          },
          "metadata": {},
          "execution_count": 18
        }
      ]
    },
    {
      "cell_type": "markdown",
      "source": [
        "**Visual representation of correlation matrix**"
      ],
      "metadata": {
        "id": "R-aMWwqOe52_"
      }
    },
    {
      "cell_type": "code",
      "source": [
        "# Plotting the heatmap of correlation between features\n",
        "\n",
        "sns.heatmap(mat_col.corr(), cbar=True, square= True, fmt='.1f',\n",
        "            annot=True, annot_kws={'size':15}, cmap='Greens')\n",
        "plt.show()"
      ],
      "metadata": {
        "colab": {
          "base_uri": "https://localhost:8080/",
          "height": 435
        },
        "id": "DG5u-2VXe6MH",
        "outputId": "cb9cf0d8-5096-4eec-a28e-421ebf8ba23b"
      },
      "execution_count": null,
      "outputs": [
        {
          "output_type": "display_data",
          "data": {
            "text/plain": [
              "<Figure size 640x480 with 2 Axes>"
            ],
            "image/png": "[encoded data removed]"
          },
          "metadata": {}
        }
      ]
    },
    {
      "cell_type": "markdown",
      "source": [
        "## Interpretation:\n",
        "The correlation matrix represents the relationships between different variables in a dataset. In this case, we have a correlation matrix with four variables: Unit Price, Quantity, Discount, and Total Price. Let's interpret the values:\n",
        "\n",
        "* **Unit Price vs. Unit Price:**\n",
        "The correlation coefficient is 1.000000, indicating a perfect positive correlation.\n",
        "This is expected since the variable is compared with itself.\n",
        "It suggests that there is a strong relationship between the unit price and itself, as expected.\n",
        "\n",
        "* **Unit Price vs. Quantity:**\n",
        "The correlation coefficient is -0.256374, indicating a weak negative correlation.\n",
        "It suggests that as the unit price increases, the quantity decreases slightly.\n",
        "However, the correlation is not strong, meaning there may be other factors influencing the relationship.\n",
        "\n",
        "* **Unit Price vs. Discount:**\n",
        "The correlation coefficient is 0.134568, indicating a weak positive correlation.\n",
        "It suggests that as the unit price increases, the discount also tends to increase slightly.\n",
        "However, the correlation is not strong, implying that other factors may have a more significant impact on the discount.\n",
        "\n",
        "* **Unit Price vs. Total Price:**\n",
        "The correlation coefficient is 0.227544, indicating a weak positive correlation.\n",
        "It suggests that as the unit price increases, the total price also tends to increase slightly.\n",
        "However, the correlation is not strong, implying that other factors may have a more significant influence on the total price.\n",
        "\n",
        "* **Quantity vs. Quantity:**\n",
        "The correlation coefficient is 1.000000, indicating a perfect positive correlation.\n",
        "This is expected since the variable is compared with itself.\n",
        "It suggests that there is a strong relationship between the quantity and itself, as expected.\n",
        "\n",
        "* **Quantity vs. Discount:**\n",
        "The correlation coefficient is -0.056051, indicating a very weak negative correlation.\n",
        "It suggests that there is almost no relationship between the quantity and the discount.\n",
        "The correlation is close to zero, indicating that changes in one variable do not correspond to consistent changes in the other.\n",
        "\n",
        "* **Quantity vs. Total Price:**\n",
        "The correlation coefficient is 0.403068, indicating a moderate positive correlation.\n",
        "It suggests that as the quantity increases, the total price tends to increase as well.\n",
        "The correlation coefficient is relatively higher compared to other variables, indicating a stronger relationship between quantity and total price.\n",
        "\n",
        "* **Discount vs. Discount:**\n",
        "The correlation coefficient is 1.000000, indicating a perfect positive correlation.\n",
        "This is expected since the variable is compared with itself.\n",
        "It suggests that there is a strong relationship between the discount and itself, as expected.\n",
        "\n",
        "* **Discount vs. Total Price:**\n",
        "The correlation coefficient is 0.082021, indicating a very weak positive correlation.\n",
        "It suggests that there is almost no relationship between the discount and the total price.\n",
        "The correlation is close to zero, indicating that changes in one variable do not correspond to consistent changes in the other.\n",
        "\n",
        "* **Total Price vs. Total Price:**\n",
        "The correlation coefficient is 1.000000, indicating a perfect positive correlation.\n",
        "This is expected since the variable is compared with itself.\n",
        "It suggests that there is a strong relationship between the total price and itself, as expected.\n",
        "\n",
        "In summary, the correlation matrix shows the relationships between variables in the dataset. It indicates that there is a weak negative correlation between unit price and quantity, a weak positive correlation between unit price and discount as well as between unit price and total price. **There is a moderate positive correlation between quantity and total price.** The correlations between quantity and discount, as well as discount and total price, are very weak."
      ],
      "metadata": {
        "id": "KgI3hA3ufN-Q"
      }
    },
    {
      "cell_type": "markdown",
      "source": [
        "## Covariance between features"
      ],
      "metadata": {
        "id": "6mJb-kBLfwB5"
      }
    },
    {
      "cell_type": "code",
      "source": [
        "mat_col.cov().style.format(format_dict)"
      ],
      "metadata": {
        "colab": {
          "base_uri": "https://localhost:8080/",
          "height": 175
        },
        "id": "Z8JbfqWzhTUh",
        "outputId": "9c5aec01-4075-4236-d294-f7ce2f80ad87"
      },
      "execution_count": null,
      "outputs": [
        {
          "output_type": "execute_result",
          "data": {
            "text/plain": [
              "<pandas.io.formats.style.Styler at 0x7c02646696f0>"
            ],
            "text/html": [
              "<style type=\"text/css\">\n",
              "</style>\n",
              "<table id=\"T_a1426\" class=\"dataframe\">\n",
              "  <thead>\n",
              "    <tr>\n",
              "      <th class=\"blank level0\" >&nbsp;</th>\n",
              "      <th id=\"T_a1426_level0_col0\" class=\"col_heading level0 col0\" >Unit Price</th>\n",
              "      <th id=\"T_a1426_level0_col1\" class=\"col_heading level0 col1\" >Quantity</th>\n",
              "      <th id=\"T_a1426_level0_col2\" class=\"col_heading level0 col2\" >Discount</th>\n",
              "      <th id=\"T_a1426_level0_col3\" class=\"col_heading level0 col3\" >Total Price</th>\n",
              "    </tr>\n",
              "  </thead>\n",
              "  <tbody>\n",
              "    <tr>\n",
              "      <th id=\"T_a1426_level0_row0\" class=\"row_heading level0 row0\" >Unit Price</th>\n",
              "      <td id=\"T_a1426_row0_col0\" class=\"data row0 col0\" >$88631.54</td>\n",
              "      <td id=\"T_a1426_row0_col1\" class=\"data row0 col1\" >-2369.07</td>\n",
              "      <td id=\"T_a1426_row0_col2\" class=\"data row0 col2\" >$613.34</td>\n",
              "      <td id=\"T_a1426_row0_col3\" class=\"data row0 col3\" >$182833.17</td>\n",
              "    </tr>\n",
              "    <tr>\n",
              "      <th id=\"T_a1426_level0_row1\" class=\"row_heading level0 row1\" >Quantity</th>\n",
              "      <td id=\"T_a1426_row1_col0\" class=\"data row1 col0\" >$-2369.07</td>\n",
              "      <td id=\"T_a1426_row1_col1\" class=\"data row1 col1\" >963.43</td>\n",
              "      <td id=\"T_a1426_row1_col2\" class=\"data row1 col2\" >$-26.64</td>\n",
              "      <td id=\"T_a1426_row1_col3\" class=\"data row1 col3\" >$33766.36</td>\n",
              "    </tr>\n",
              "    <tr>\n",
              "      <th id=\"T_a1426_level0_row2\" class=\"row_heading level0 row2\" >Discount</th>\n",
              "      <td id=\"T_a1426_row2_col0\" class=\"data row2 col0\" >$613.34</td>\n",
              "      <td id=\"T_a1426_row2_col1\" class=\"data row2 col1\" >-26.64</td>\n",
              "      <td id=\"T_a1426_row2_col2\" class=\"data row2 col2\" >$234.38</td>\n",
              "      <td id=\"T_a1426_row2_col3\" class=\"data row2 col3\" >$3389.11</td>\n",
              "    </tr>\n",
              "    <tr>\n",
              "      <th id=\"T_a1426_level0_row3\" class=\"row_heading level0 row3\" >Total Price</th>\n",
              "      <td id=\"T_a1426_row3_col0\" class=\"data row3 col0\" >$182833.17</td>\n",
              "      <td id=\"T_a1426_row3_col1\" class=\"data row3 col1\" >33766.36</td>\n",
              "      <td id=\"T_a1426_row3_col2\" class=\"data row3 col2\" >$3389.11</td>\n",
              "      <td id=\"T_a1426_row3_col3\" class=\"data row3 col3\" >$7284378.50</td>\n",
              "    </tr>\n",
              "  </tbody>\n",
              "</table>\n"
            ]
          },
          "metadata": {},
          "execution_count": 20
        }
      ]
    },
    {
      "cell_type": "markdown",
      "source": [
        "## Interpretation\n",
        "The covariance matrix represents the covariances between different features in the dataset. It shows how the variables vary together. In this matrix, we observe that\n",
        "\n",
        "* **`unit price and total price`** have a **large positive covariance**, indicating that they tend to increase or decrease together.\n",
        "\n",
        "* `quantity and total price` also have a **positive covariance**, suggesting a relationship between them.\n",
        "\n",
        "* `unit price and quantity`, and  `unit price and discount`, have **negative covariances**, implying an inverse relationship.\n",
        "\n",
        "The covariance matrix provides insights into the relationships and variations between the features, highlighting which variables tend to move together and how they relate to each other.\n"
      ],
      "metadata": {
        "id": "5hHI8cXYhgSJ"
      }
    },
    {
      "cell_type": "markdown",
      "source": [
        "# 7. Visualization of the Data"
      ],
      "metadata": {
        "id": "s-Bbo9F_igZZ"
      }
    },
    {
      "cell_type": "markdown",
      "source": [
        "## **Histogram of the features**"
      ],
      "metadata": {
        "id": "-uWuy4G_isVr"
      }
    },
    {
      "cell_type": "code",
      "source": [
        "df.head()"
      ],
      "metadata": {
        "colab": {
          "base_uri": "https://localhost:8080/",
          "height": 206
        },
        "id": "C0CKvzjWi5ei",
        "outputId": "64918b6c-aa84-4df7-ffad-b89a44182db0"
      },
      "execution_count": null,
      "outputs": [
        {
          "output_type": "execute_result",
          "data": {
            "text/plain": [
              "   Sl No. Product Name  Unit Price  Quantity  Discount  Total Price\n",
              "0       1            1       119.0        30       0.0       3570.0\n",
              "1       1           0        110.0         7       0.0        770.0\n",
              "2       1            0       110.0         5       0.0        550.0\n",
              "3       1            2       235.0        24      14.1       5640.0\n",
              "4       2           3        235.0        24      14.1       5640.0"
            ],
            "text/html": [
              "\n",
              "\n",
              "  <div id=\"df-4af5fb92-83ae-462f-8501-4d82e6326b81\">\n",
              "    <div class=\"colab-df-container\">\n",
              "      <div>\n",
              "<style scoped>\n",
              "    .dataframe tbody tr th:only-of-type {\n",
              "        vertical-align: middle;\n",
              "    }\n",
              "\n",
              "    .dataframe tbody tr th {\n",
              "        vertical-align: top;\n",
              "    }\n",
              "\n",
              "    .dataframe thead th {\n",
              "        text-align: right;\n",
              "    }\n",
              "</style>\n",
              "<table border=\"1\" class=\"dataframe\">\n",
              "  <thead>\n",
              "    <tr style=\"text-align: right;\">\n",
              "      <th></th>\n",
              "      <th>Sl No.</th>\n",
              "      <th>Product Name</th>\n",
              "      <th>Unit Price</th>\n",
              "      <th>Quantity</th>\n",
              "      <th>Discount</th>\n",
              "      <th>Total Price</th>\n",
              "    </tr>\n",
              "  </thead>\n",
              "  <tbody>\n",
              "    <tr>\n",
              "      <th>0</th>\n",
              "      <td>1</td>\n",
              "      <td>1</td>\n",
              "      <td>119.0</td>\n",
              "      <td>30</td>\n",
              "      <td>0.0</td>\n",
              "      <td>3570.0</td>\n",
              "    </tr>\n",
              "    <tr>\n",
              "      <th>1</th>\n",
              "      <td>1</td>\n",
              "      <td>0</td>\n",
              "      <td>110.0</td>\n",
              "      <td>7</td>\n",
              "      <td>0.0</td>\n",
              "      <td>770.0</td>\n",
              "    </tr>\n",
              "    <tr>\n",
              "      <th>2</th>\n",
              "      <td>1</td>\n",
              "      <td>0</td>\n",
              "      <td>110.0</td>\n",
              "      <td>5</td>\n",
              "      <td>0.0</td>\n",
              "      <td>550.0</td>\n",
              "    </tr>\n",
              "    <tr>\n",
              "      <th>3</th>\n",
              "      <td>1</td>\n",
              "      <td>2</td>\n",
              "      <td>235.0</td>\n",
              "      <td>24</td>\n",
              "      <td>14.1</td>\n",
              "      <td>5640.0</td>\n",
              "    </tr>\n",
              "    <tr>\n",
              "      <th>4</th>\n",
              "      <td>2</td>\n",
              "      <td>3</td>\n",
              "      <td>235.0</td>\n",
              "      <td>24</td>\n",
              "      <td>14.1</td>\n",
              "      <td>5640.0</td>\n",
              "    </tr>\n",
              "  </tbody>\n",
              "</table>\n",
              "</div>\n",
              "      <button class=\"colab-df-convert\" onclick=\"convertToInteractive('df-4af5fb92-83ae-462f-8501-4d82e6326b81')\"\n",
              "              title=\"Convert this dataframe to an interactive table.\"\n",
              "              style=\"display:none;\">\n",
              "\n",
              "  <svg xmlns=\"http://www.w3.org/2000/svg\" height=\"24px\"viewBox=\"0 0 24 24\"\n",
              "       width=\"24px\">\n",
              "    <path d=\"M0 0h24v24H0V0z\" fill=\"none\"/>\n",
              "    <path d=\"M18.56 5.44l.94 2.06.94-2.06 2.06-.94-2.06-.94-.94-2.06-.94 2.06-2.06.94zm-11 1L8.5 8.5l.94-2.06 2.06-.94-2.06-.94L8.5 2.5l-.94 2.06-2.06.94zm10 10l.94 2.06.94-2.06 2.06-.94-2.06-.94-.94-2.06-.94 2.06-2.06.94z\"/><path d=\"M17.41 7.96l-1.37-1.37c-.4-.4-.92-.59-1.43-.59-.52 0-1.04.2-1.43.59L10.3 9.45l-7.72 7.72c-.78.78-.78 2.05 0 2.83L4 21.41c.39.39.9.59 1.41.59.51 0 1.02-.2 1.41-.59l7.78-7.78 2.81-2.81c.8-.78.8-2.07 0-2.86zM5.41 20L4 18.59l7.72-7.72 1.47 1.35L5.41 20z\"/>\n",
              "  </svg>\n",
              "      </button>\n",
              "\n",
              "\n",
              "\n",
              "    <div id=\"df-038523f6-199c-42d1-9530-231914f6071e\">\n",
              "      <button class=\"colab-df-quickchart\" onclick=\"quickchart('df-038523f6-199c-42d1-9530-231914f6071e')\"\n",
              "              title=\"Suggest charts.\"\n",
              "              style=\"display:none;\">\n",
              "\n",
              "<svg xmlns=\"http://www.w3.org/2000/svg\" height=\"24px\"viewBox=\"0 0 24 24\"\n",
              "     width=\"24px\">\n",
              "    <g>\n",
              "        <path d=\"M19 3H5c-1.1 0-2 .9-2 2v14c0 1.1.9 2 2 2h14c1.1 0 2-.9 2-2V5c0-1.1-.9-2-2-2zM9 17H7v-7h2v7zm4 0h-2V7h2v10zm4 0h-2v-4h2v4z\"/>\n",
              "    </g>\n",
              "</svg>\n",
              "      </button>\n",
              "    </div>\n",
              "\n",
              "<style>\n",
              "  .colab-df-quickchart {\n",
              "    background-color: #E8F0FE;\n",
              "    border: none;\n",
              "    border-radius: 50%;\n",
              "    cursor: pointer;\n",
              "    display: none;\n",
              "    fill: #1967D2;\n",
              "    height: 32px;\n",
              "    padding: 0 0 0 0;\n",
              "    width: 32px;\n",
              "  }\n",
              "\n",
              "  .colab-df-quickchart:hover {\n",
              "    background-color: #E2EBFA;\n",
              "    box-shadow: 0px 1px 2px rgba(60, 64, 67, 0.3), 0px 1px 3px 1px rgba(60, 64, 67, 0.15);\n",
              "    fill: #174EA6;\n",
              "  }\n",
              "\n",
              "  [theme=dark] .colab-df-quickchart {\n",
              "    background-color: #3B4455;\n",
              "    fill: #D2E3FC;\n",
              "  }\n",
              "\n",
              "  [theme=dark] .colab-df-quickchart:hover {\n",
              "    background-color: #434B5C;\n",
              "    box-shadow: 0px 1px 3px 1px rgba(0, 0, 0, 0.15);\n",
              "    filter: drop-shadow(0px 1px 2px rgba(0, 0, 0, 0.3));\n",
              "    fill: #FFFFFF;\n",
              "  }\n",
              "</style>\n",
              "\n",
              "    <script>\n",
              "      async function quickchart(key) {\n",
              "        const containerElement = document.querySelector('#' + key);\n",
              "        const charts = await google.colab.kernel.invokeFunction(\n",
              "            'suggestCharts', [key], {});\n",
              "      }\n",
              "    </script>\n",
              "\n",
              "      <script>\n",
              "\n",
              "function displayQuickchartButton(domScope) {\n",
              "  let quickchartButtonEl =\n",
              "    domScope.querySelector('#df-038523f6-199c-42d1-9530-231914f6071e button.colab-df-quickchart');\n",
              "  quickchartButtonEl.style.display =\n",
              "    google.colab.kernel.accessAllowed ? 'block' : 'none';\n",
              "}\n",
              "\n",
              "        displayQuickchartButton(document);\n",
              "      </script>\n",
              "      <style>\n",
              "    .colab-df-container {\n",
              "      display:flex;\n",
              "      flex-wrap:wrap;\n",
              "      gap: 12px;\n",
              "    }\n",
              "\n",
              "    .colab-df-convert {\n",
              "      background-color: #E8F0FE;\n",
              "      border: none;\n",
              "      border-radius: 50%;\n",
              "      cursor: pointer;\n",
              "      display: none;\n",
              "      fill: #1967D2;\n",
              "      height: 32px;\n",
              "      padding: 0 0 0 0;\n",
              "      width: 32px;\n",
              "    }\n",
              "\n",
              "    .colab-df-convert:hover {\n",
              "      background-color: #E2EBFA;\n",
              "      box-shadow: 0px 1px 2px rgba(60, 64, 67, 0.3), 0px 1px 3px 1px rgba(60, 64, 67, 0.15);\n",
              "      fill: #174EA6;\n",
              "    }\n",
              "\n",
              "    [theme=dark] .colab-df-convert {\n",
              "      background-color: #3B4455;\n",
              "      fill: #D2E3FC;\n",
              "    }\n",
              "\n",
              "    [theme=dark] .colab-df-convert:hover {\n",
              "      background-color: #434B5C;\n",
              "      box-shadow: 0px 1px 3px 1px rgba(0, 0, 0, 0.15);\n",
              "      filter: drop-shadow(0px 1px 2px rgba(0, 0, 0, 0.3));\n",
              "      fill: #FFFFFF;\n",
              "    }\n",
              "  </style>\n",
              "\n",
              "      <script>\n",
              "        const buttonEl =\n",
              "          document.querySelector('#df-4af5fb92-83ae-462f-8501-4d82e6326b81 button.colab-df-convert');\n",
              "        buttonEl.style.display =\n",
              "          google.colab.kernel.accessAllowed ? 'block' : 'none';\n",
              "\n",
              "        async function convertToInteractive(key) {\n",
              "          const element = document.querySelector('#df-4af5fb92-83ae-462f-8501-4d82e6326b81');\n",
              "          const dataTable =\n",
              "            await google.colab.kernel.invokeFunction('convertToInteractive',\n",
              "                                                     [key], {});\n",
              "          if (!dataTable) return;\n",
              "\n",
              "          const docLinkHtml = 'Like what you see? Visit the ' +\n",
              "            '<a target=\"_blank\" href=https://colab.research.google.com/notebooks/data_table.ipynb>data table notebook</a>'\n",
              "            + ' to learn more about interactive tables.';\n",
              "          element.innerHTML = '';\n",
              "          dataTable['output_type'] = 'display_data';\n",
              "          await google.colab.output.renderOutput(dataTable, element);\n",
              "          const docLink = document.createElement('div');\n",
              "          docLink.innerHTML = docLinkHtml;\n",
              "          element.appendChild(docLink);\n",
              "        }\n",
              "      </script>\n",
              "    </div>\n",
              "  </div>\n"
            ]
          },
          "metadata": {},
          "execution_count": 21
        }
      ]
    },
    {
      "cell_type": "code",
      "source": [
        "plt.figure(figsize=(14, 4))\n",
        "plt.hist(df['Product Name'], bins=20, edgecolor='black')\n",
        "plt.xlabel('Product Name')\n",
        "plt.ylabel('Frequency')\n",
        "plt.title('Histogram of Product Name')\n",
        "plt.show()"
      ],
      "metadata": {
        "colab": {
          "base_uri": "https://localhost:8080/",
          "height": 366
        },
        "id": "jYx0yYoJjhqL",
        "outputId": "90275167-7627-42cb-c037-ec2908ebb1d8"
      },
      "execution_count": null,
      "outputs": [
        {
          "output_type": "display_data",
          "data": {
            "text/plain": [
              "<Figure size 1400x400 with 1 Axes>"
            ],
            "image/png": "[encoded data removed]"
          },
          "metadata": {}
        }
      ]
    },
    {
      "cell_type": "markdown",
      "source": [
        "**Findings:**\n",
        "* This plot seems very unclear.\n",
        "* Lrts find the values in numerical way"
      ],
      "metadata": {
        "id": "ar7BiuaOmTv6"
      }
    },
    {
      "cell_type": "code",
      "source": [
        "df['Product Name'].value_counts()"
      ],
      "metadata": {
        "colab": {
          "base_uri": "https://localhost:8080/"
        },
        "id": "rzIdXhOPmjuG",
        "outputId": "cb4043dc-b3b3-437d-df6d-23f6b1231252"
      },
      "execution_count": null,
      "outputs": [
        {
          "output_type": "execute_result",
          "data": {
            "text/plain": [
              "1     87\n",
              "6     64\n",
              "5     58\n",
              "61    27\n",
              "16    27\n",
              "      ..\n",
              "45     1\n",
              "51     1\n",
              "52     1\n",
              "58     1\n",
              "78     1\n",
              "Name: Product Name, Length: 86, dtype: int64"
            ]
          },
          "metadata": {},
          "execution_count": 23
        }
      ]
    },
    {
      "cell_type": "markdown",
      "source": [
        "**Findings:**\n",
        "* From this values we can illustrate that most frequently sales product is Product 1, Product 6 and Product 5."
      ],
      "metadata": {
        "id": "bfvZ-sBrmm5z"
      }
    },
    {
      "cell_type": "code",
      "source": [
        "plt.figure(figsize=(10, 4))\n",
        "plt.hist(df['Unit Price'], bins=40, edgecolor='black')\n",
        "plt.xlabel('Unit Price')\n",
        "plt.ylabel('Frequency')\n",
        "plt.title('Histogram of Unit Price')\n",
        "plt.show()"
      ],
      "metadata": {
        "colab": {
          "base_uri": "https://localhost:8080/",
          "height": 410
        },
        "id": "ZjdXIxtejoCy",
        "outputId": "3d694c77-e7de-42db-d581-7a95626b3f40"
      },
      "execution_count": null,
      "outputs": [
        {
          "output_type": "display_data",
          "data": {
            "text/plain": [
              "<Figure size 1000x400 with 1 Axes>"
            ],
            "image/png": "[encoded data removed]"
          },
          "metadata": {}
        }
      ]
    },
    {
      "cell_type": "markdown",
      "source": [
        "**Findings:**\n",
        "* Most of the every individual product's price is approximetly between 0 to 300."
      ],
      "metadata": {
        "id": "DGEbXnEHmGcl"
      }
    },
    {
      "cell_type": "code",
      "source": [
        "plt.figure(figsize=(10, 4))\n",
        "plt.hist(df['Quantity'], bins=30, edgecolor='black')\n",
        "plt.xlabel('Quantity')\n",
        "plt.ylabel('Frequency')\n",
        "plt.title('Histogram of Quantity')\n",
        "plt.show()"
      ],
      "metadata": {
        "colab": {
          "base_uri": "https://localhost:8080/",
          "height": 410
        },
        "id": "pZejMJQhjpbx",
        "outputId": "e8674eeb-a75f-4f3f-a9df-d353df0ff8f5"
      },
      "execution_count": null,
      "outputs": [
        {
          "output_type": "display_data",
          "data": {
            "text/plain": [
              "<Figure size 1000x400 with 1 Axes>"
            ],
            "image/png": "[encoded data removed]"
          },
          "metadata": {}
        }
      ]
    },
    {
      "cell_type": "markdown",
      "source": [
        "**Findings:**\n",
        "* The graphs shows most of the quantity lies between approximetly 0 to 35."
      ],
      "metadata": {
        "id": "v8bYk1mHl4yQ"
      }
    },
    {
      "cell_type": "code",
      "source": [
        "plt.figure(figsize=(10, 4))\n",
        "plt.hist(df['Discount'], bins=40, edgecolor='black')\n",
        "plt.xlabel('Discount')\n",
        "plt.ylabel('Frequency')\n",
        "plt.title('Histogram of Discount')\n",
        "plt.show()"
      ],
      "metadata": {
        "colab": {
          "base_uri": "https://localhost:8080/",
          "height": 410
        },
        "id": "uZGRYe8VjtWy",
        "outputId": "082b91a5-8d60-471b-c54f-082a5072ba51"
      },
      "execution_count": null,
      "outputs": [
        {
          "output_type": "display_data",
          "data": {
            "text/plain": [
              "<Figure size 1000x400 with 1 Axes>"
            ],
            "image/png": "[encoded data removed]"
          },
          "metadata": {}
        }
      ]
    },
    {
      "cell_type": "markdown",
      "source": [
        "**Findings:**\n",
        " * Histogram shows most of the discount lies between 0 to 10 percent.\n",
        " * We can see there is some outliers cause discount can not be more than 100%.\n",
        " * So we shoud handle the outliers also for more clearification increasing the bin number to 100."
      ],
      "metadata": {
        "id": "J2FY_lkHkTtK"
      }
    },
    {
      "cell_type": "markdown",
      "source": [
        "**Handaling `Discount` faeture outliers**"
      ],
      "metadata": {
        "id": "krQ-bgNpkybi"
      }
    },
    {
      "cell_type": "code",
      "source": [
        "# Calculate the median of the 'Discount' column\n",
        "median_discount = df['Discount'].median()\n",
        "\n",
        "# Replace values greater than 100 with the median\n",
        "df.loc[df['Discount'] > 100, 'Discount'] = median_discount"
      ],
      "metadata": {
        "id": "AUM3zh1Pkzq6"
      },
      "execution_count": null,
      "outputs": []
    },
    {
      "cell_type": "markdown",
      "source": [
        "**Without outliers `Discount` feature Histogram**"
      ],
      "metadata": {
        "id": "kJ44RKiklH8z"
      }
    },
    {
      "cell_type": "code",
      "source": [
        "plt.figure(figsize=(10, 4))\n",
        "plt.hist(df['Discount'], bins=100, edgecolor='black')\n",
        "plt.xlabel('Discount')\n",
        "plt.ylabel('Frequency')\n",
        "plt.title('Histogram of Discount')\n",
        "plt.show()"
      ],
      "metadata": {
        "colab": {
          "base_uri": "https://localhost:8080/",
          "height": 410
        },
        "id": "-W7trsiPlENb",
        "outputId": "313880c1-82b1-44b5-8551-3e89b9b3d4c9"
      },
      "execution_count": null,
      "outputs": [
        {
          "output_type": "display_data",
          "data": {
            "text/plain": [
              "<Figure size 1000x400 with 1 Axes>"
            ],
            "image/png": "[encoded data removed]"
          },
          "metadata": {}
        }
      ]
    },
    {
      "cell_type": "markdown",
      "source": [
        "**Findings:**\n",
        "* Now it is clear that only few sales are with discount and the discount are less than 30%."
      ],
      "metadata": {
        "id": "dViz_Whrld_r"
      }
    },
    {
      "cell_type": "code",
      "source": [
        "plt.figure(figsize=(10, 4))\n",
        "plt.hist(df['Total Price'], bins=40, edgecolor='black')\n",
        "plt.xlabel('Total Price')\n",
        "plt.ylabel('Frequency')\n",
        "plt.title('Histogram of Total Price')\n",
        "plt.show()"
      ],
      "metadata": {
        "colab": {
          "base_uri": "https://localhost:8080/",
          "height": 410
        },
        "id": "5qRlhIVkimWj",
        "outputId": "8125b8a4-4e3f-4a32-ace7-fa5769f10d36"
      },
      "execution_count": null,
      "outputs": [
        {
          "output_type": "display_data",
          "data": {
            "text/plain": [
              "<Figure size 1000x400 with 1 Axes>"
            ],
            "image/png": "[encoded data removed]"
          },
          "metadata": {}
        }
      ]
    },
    {
      "cell_type": "markdown",
      "source": [
        "**Findings:**\n",
        "* This histogram represent the sales price for individual customer and how much money they spend. It shows most of the sales price between 0 to 4000. Also there is some big amount of sales though frequency is very low."
      ],
      "metadata": {
        "id": "IopWVLakj-Zz"
      }
    },
    {
      "cell_type": "markdown",
      "source": [
        "# 8. Findings Insights:"
      ],
      "metadata": {
        "id": "OtAYA-o0nFO0"
      }
    },
    {
      "cell_type": "markdown",
      "source": [
        "## How much sales in Price?"
      ],
      "metadata": {
        "id": "gPDoAh5rnNCU"
      }
    },
    {
      "cell_type": "code",
      "source": [
        "total_sales = df['Total Price'].sum()\n",
        "total_sales"
      ],
      "metadata": {
        "colab": {
          "base_uri": "https://localhost:8080/"
        },
        "id": "tkKJiVqQnVv0",
        "outputId": "a7afc8c6-ea4b-4ef0-a886-d94cdd15e56e"
      },
      "execution_count": null,
      "outputs": [
        {
          "output_type": "execute_result",
          "data": {
            "text/plain": [
              "1552853.2"
            ]
          },
          "metadata": {},
          "execution_count": 30
        }
      ]
    },
    {
      "cell_type": "markdown",
      "source": [
        "**Findings:**\n",
        "* Total Sales is $1,552,853.2"
      ],
      "metadata": {
        "id": "1l-DdqK_nxzl"
      }
    },
    {
      "cell_type": "markdown",
      "source": [
        "## Which product is doing good by Total Price?"
      ],
      "metadata": {
        "id": "fk7i6LOJoVTc"
      }
    },
    {
      "cell_type": "code",
      "source": [
        "df.groupby('Product Name')['Total Price'].sum().reset_index().sort_values(by='Total Price', ascending=False)"
      ],
      "metadata": {
        "colab": {
          "base_uri": "https://localhost:8080/",
          "height": 424
        },
        "id": "FcPflQFAoXtU",
        "outputId": "c7f9892a-da28-46f6-8933-eaebee8cad50"
      },
      "execution_count": null,
      "outputs": [
        {
          "output_type": "execute_result",
          "data": {
            "text/plain": [
              "   Product Name  Total Price\n",
              "2             1     279650.0\n",
              "33           38      97020.0\n",
              "57            6      88076.8\n",
              "59           61      76450.0\n",
              "52           55      74643.0\n",
              "..          ...          ...\n",
              "77           78        822.0\n",
              "81           81        750.0\n",
              "0             0        550.0\n",
              "82           82        548.0\n",
              "55           58        423.0\n",
              "\n",
              "[86 rows x 2 columns]"
            ],
            "text/html": [
              "\n",
              "\n",
              "  <div id=\"df-ee9a3c24-c85d-4a5b-a4b0-91e95e2f033a\">\n",
              "    <div class=\"colab-df-container\">\n",
              "      <div>\n",
              "<style scoped>\n",
              "    .dataframe tbody tr th:only-of-type {\n",
              "        vertical-align: middle;\n",
              "    }\n",
              "\n",
              "    .dataframe tbody tr th {\n",
              "        vertical-align: top;\n",
              "    }\n",
              "\n",
              "    .dataframe thead th {\n",
              "        text-align: right;\n",
              "    }\n",
              "</style>\n",
              "<table border=\"1\" class=\"dataframe\">\n",
              "  <thead>\n",
              "    <tr style=\"text-align: right;\">\n",
              "      <th></th>\n",
              "      <th>Product Name</th>\n",
              "      <th>Total Price</th>\n",
              "    </tr>\n",
              "  </thead>\n",
              "  <tbody>\n",
              "    <tr>\n",
              "      <th>2</th>\n",
              "      <td>1</td>\n",
              "      <td>279650.0</td>\n",
              "    </tr>\n",
              "    <tr>\n",
              "      <th>33</th>\n",
              "      <td>38</td>\n",
              "      <td>97020.0</td>\n",
              "    </tr>\n",
              "    <tr>\n",
              "      <th>57</th>\n",
              "      <td>6</td>\n",
              "      <td>88076.8</td>\n",
              "    </tr>\n",
              "    <tr>\n",
              "      <th>59</th>\n",
              "      <td>61</td>\n",
              "      <td>76450.0</td>\n",
              "    </tr>\n",
              "    <tr>\n",
              "      <th>52</th>\n",
              "      <td>55</td>\n",
              "      <td>74643.0</td>\n",
              "    </tr>\n",
              "    <tr>\n",
              "      <th>...</th>\n",
              "      <td>...</td>\n",
              "      <td>...</td>\n",
              "    </tr>\n",
              "    <tr>\n",
              "      <th>77</th>\n",
              "      <td>78</td>\n",
              "      <td>822.0</td>\n",
              "    </tr>\n",
              "    <tr>\n",
              "      <th>81</th>\n",
              "      <td>81</td>\n",
              "      <td>750.0</td>\n",
              "    </tr>\n",
              "    <tr>\n",
              "      <th>0</th>\n",
              "      <td>0</td>\n",
              "      <td>550.0</td>\n",
              "    </tr>\n",
              "    <tr>\n",
              "      <th>82</th>\n",
              "      <td>82</td>\n",
              "      <td>548.0</td>\n",
              "    </tr>\n",
              "    <tr>\n",
              "      <th>55</th>\n",
              "      <td>58</td>\n",
              "      <td>423.0</td>\n",
              "    </tr>\n",
              "  </tbody>\n",
              "</table>\n",
              "<p>86 rows × 2 columns</p>\n",
              "</div>\n",
              "      <button class=\"colab-df-convert\" onclick=\"convertToInteractive('df-ee9a3c24-c85d-4a5b-a4b0-91e95e2f033a')\"\n",
              "              title=\"Convert this dataframe to an interactive table.\"\n",
              "              style=\"display:none;\">\n",
              "\n",
              "  <svg xmlns=\"http://www.w3.org/2000/svg\" height=\"24px\"viewBox=\"0 0 24 24\"\n",
              "       width=\"24px\">\n",
              "    <path d=\"M0 0h24v24H0V0z\" fill=\"none\"/>\n",
              "    <path d=\"M18.56 5.44l.94 2.06.94-2.06 2.06-.94-2.06-.94-.94-2.06-.94 2.06-2.06.94zm-11 1L8.5 8.5l.94-2.06 2.06-.94-2.06-.94L8.5 2.5l-.94 2.06-2.06.94zm10 10l.94 2.06.94-2.06 2.06-.94-2.06-.94-.94-2.06-.94 2.06-2.06.94z\"/><path d=\"M17.41 7.96l-1.37-1.37c-.4-.4-.92-.59-1.43-.59-.52 0-1.04.2-1.43.59L10.3 9.45l-7.72 7.72c-.78.78-.78 2.05 0 2.83L4 21.41c.39.39.9.59 1.41.59.51 0 1.02-.2 1.41-.59l7.78-7.78 2.81-2.81c.8-.78.8-2.07 0-2.86zM5.41 20L4 18.59l7.72-7.72 1.47 1.35L5.41 20z\"/>\n",
              "  </svg>\n",
              "      </button>\n",
              "\n",
              "\n",
              "\n",
              "    <div id=\"df-101f2d81-30fe-4597-a79f-513e5e7da235\">\n",
              "      <button class=\"colab-df-quickchart\" onclick=\"quickchart('df-101f2d81-30fe-4597-a79f-513e5e7da235')\"\n",
              "              title=\"Suggest charts.\"\n",
              "              style=\"display:none;\">\n",
              "\n",
              "<svg xmlns=\"http://www.w3.org/2000/svg\" height=\"24px\"viewBox=\"0 0 24 24\"\n",
              "     width=\"24px\">\n",
              "    <g>\n",
              "        <path d=\"M19 3H5c-1.1 0-2 .9-2 2v14c0 1.1.9 2 2 2h14c1.1 0 2-.9 2-2V5c0-1.1-.9-2-2-2zM9 17H7v-7h2v7zm4 0h-2V7h2v10zm4 0h-2v-4h2v4z\"/>\n",
              "    </g>\n",
              "</svg>\n",
              "      </button>\n",
              "    </div>\n",
              "\n",
              "<style>\n",
              "  .colab-df-quickchart {\n",
              "    background-color: #E8F0FE;\n",
              "    border: none;\n",
              "    border-radius: 50%;\n",
              "    cursor: pointer;\n",
              "    display: none;\n",
              "    fill: #1967D2;\n",
              "    height: 32px;\n",
              "    padding: 0 0 0 0;\n",
              "    width: 32px;\n",
              "  }\n",
              "\n",
              "  .colab-df-quickchart:hover {\n",
              "    background-color: #E2EBFA;\n",
              "    box-shadow: 0px 1px 2px rgba(60, 64, 67, 0.3), 0px 1px 3px 1px rgba(60, 64, 67, 0.15);\n",
              "    fill: #174EA6;\n",
              "  }\n",
              "\n",
              "  [theme=dark] .colab-df-quickchart {\n",
              "    background-color: #3B4455;\n",
              "    fill: #D2E3FC;\n",
              "  }\n",
              "\n",
              "  [theme=dark] .colab-df-quickchart:hover {\n",
              "    background-color: #434B5C;\n",
              "    box-shadow: 0px 1px 3px 1px rgba(0, 0, 0, 0.15);\n",
              "    filter: drop-shadow(0px 1px 2px rgba(0, 0, 0, 0.3));\n",
              "    fill: #FFFFFF;\n",
              "  }\n",
              "</style>\n",
              "\n",
              "    <script>\n",
              "      async function quickchart(key) {\n",
              "        const containerElement = document.querySelector('#' + key);\n",
              "        const charts = await google.colab.kernel.invokeFunction(\n",
              "            'suggestCharts', [key], {});\n",
              "      }\n",
              "    </script>\n",
              "\n",
              "      <script>\n",
              "\n",
              "function displayQuickchartButton(domScope) {\n",
              "  let quickchartButtonEl =\n",
              "    domScope.querySelector('#df-101f2d81-30fe-4597-a79f-513e5e7da235 button.colab-df-quickchart');\n",
              "  quickchartButtonEl.style.display =\n",
              "    google.colab.kernel.accessAllowed ? 'block' : 'none';\n",
              "}\n",
              "\n",
              "        displayQuickchartButton(document);\n",
              "      </script>\n",
              "      <style>\n",
              "    .colab-df-container {\n",
              "      display:flex;\n",
              "      flex-wrap:wrap;\n",
              "      gap: 12px;\n",
              "    }\n",
              "\n",
              "    .colab-df-convert {\n",
              "      background-color: #E8F0FE;\n",
              "      border: none;\n",
              "      border-radius: 50%;\n",
              "      cursor: pointer;\n",
              "      display: none;\n",
              "      fill: #1967D2;\n",
              "      height: 32px;\n",
              "      padding: 0 0 0 0;\n",
              "      width: 32px;\n",
              "    }\n",
              "\n",
              "    .colab-df-convert:hover {\n",
              "      background-color: #E2EBFA;\n",
              "      box-shadow: 0px 1px 2px rgba(60, 64, 67, 0.3), 0px 1px 3px 1px rgba(60, 64, 67, 0.15);\n",
              "      fill: #174EA6;\n",
              "    }\n",
              "\n",
              "    [theme=dark] .colab-df-convert {\n",
              "      background-color: #3B4455;\n",
              "      fill: #D2E3FC;\n",
              "    }\n",
              "\n",
              "    [theme=dark] .colab-df-convert:hover {\n",
              "      background-color: #434B5C;\n",
              "      box-shadow: 0px 1px 3px 1px rgba(0, 0, 0, 0.15);\n",
              "      filter: drop-shadow(0px 1px 2px rgba(0, 0, 0, 0.3));\n",
              "      fill: #FFFFFF;\n",
              "    }\n",
              "  </style>\n",
              "\n",
              "      <script>\n",
              "        const buttonEl =\n",
              "          document.querySelector('#df-ee9a3c24-c85d-4a5b-a4b0-91e95e2f033a button.colab-df-convert');\n",
              "        buttonEl.style.display =\n",
              "          google.colab.kernel.accessAllowed ? 'block' : 'none';\n",
              "\n",
              "        async function convertToInteractive(key) {\n",
              "          const element = document.querySelector('#df-ee9a3c24-c85d-4a5b-a4b0-91e95e2f033a');\n",
              "          const dataTable =\n",
              "            await google.colab.kernel.invokeFunction('convertToInteractive',\n",
              "                                                     [key], {});\n",
              "          if (!dataTable) return;\n",
              "\n",
              "          const docLinkHtml = 'Like what you see? Visit the ' +\n",
              "            '<a target=\"_blank\" href=https://colab.research.google.com/notebooks/data_table.ipynb>data table notebook</a>'\n",
              "            + ' to learn more about interactive tables.';\n",
              "          element.innerHTML = '';\n",
              "          dataTable['output_type'] = 'display_data';\n",
              "          await google.colab.output.renderOutput(dataTable, element);\n",
              "          const docLink = document.createElement('div');\n",
              "          docLink.innerHTML = docLinkHtml;\n",
              "          element.appendChild(docLink);\n",
              "        }\n",
              "      </script>\n",
              "    </div>\n",
              "  </div>\n"
            ]
          },
          "metadata": {},
          "execution_count": 31
        }
      ]
    },
    {
      "cell_type": "markdown",
      "source": [
        "Findings:\n",
        "* From the table we can see most of the sales are from \"Product 1\"\n",
        "* Total ammount of sales is $2,79,650 that is 3 times than second highest sales product which is \"Product 38\""
      ],
      "metadata": {
        "id": "84wGm0IWoh3T"
      }
    },
    {
      "cell_type": "markdown",
      "source": [
        "## Which product is doing good by total Quantity Sold?"
      ],
      "metadata": {
        "id": "rJTUaDyRrJL1"
      }
    },
    {
      "cell_type": "code",
      "source": [
        "df.groupby('Product Name')['Quantity'].sum().reset_index().sort_values(by='Quantity', ascending=False)"
      ],
      "metadata": {
        "colab": {
          "base_uri": "https://localhost:8080/",
          "height": 424
        },
        "id": "hbHacJnMq9Tu",
        "outputId": "5ae010ae-2a8b-4149-d40c-d3699f858e12"
      },
      "execution_count": null,
      "outputs": [
        {
          "output_type": "execute_result",
          "data": {
            "text/plain": [
              "   Product Name  Quantity\n",
              "57            6      3932\n",
              "46            5      3306\n",
              "2             1      2350\n",
              "8            15       630\n",
              "9            16       613\n",
              "..          ...       ...\n",
              "30           35         3\n",
              "83           83         3\n",
              "55           58         3\n",
              "82           82         2\n",
              "81           81         1\n",
              "\n",
              "[86 rows x 2 columns]"
            ],
            "text/html": [
              "\n",
              "\n",
              "  <div id=\"df-8ea9751c-c8ba-4e47-bc48-a36d0854e0ee\">\n",
              "    <div class=\"colab-df-container\">\n",
              "      <div>\n",
              "<style scoped>\n",
              "    .dataframe tbody tr th:only-of-type {\n",
              "        vertical-align: middle;\n",
              "    }\n",
              "\n",
              "    .dataframe tbody tr th {\n",
              "        vertical-align: top;\n",
              "    }\n",
              "\n",
              "    .dataframe thead th {\n",
              "        text-align: right;\n",
              "    }\n",
              "</style>\n",
              "<table border=\"1\" class=\"dataframe\">\n",
              "  <thead>\n",
              "    <tr style=\"text-align: right;\">\n",
              "      <th></th>\n",
              "      <th>Product Name</th>\n",
              "      <th>Quantity</th>\n",
              "    </tr>\n",
              "  </thead>\n",
              "  <tbody>\n",
              "    <tr>\n",
              "      <th>57</th>\n",
              "      <td>6</td>\n",
              "      <td>3932</td>\n",
              "    </tr>\n",
              "    <tr>\n",
              "      <th>46</th>\n",
              "      <td>5</td>\n",
              "      <td>3306</td>\n",
              "    </tr>\n",
              "    <tr>\n",
              "      <th>2</th>\n",
              "      <td>1</td>\n",
              "      <td>2350</td>\n",
              "    </tr>\n",
              "    <tr>\n",
              "      <th>8</th>\n",
              "      <td>15</td>\n",
              "      <td>630</td>\n",
              "    </tr>\n",
              "    <tr>\n",
              "      <th>9</th>\n",
              "      <td>16</td>\n",
              "      <td>613</td>\n",
              "    </tr>\n",
              "    <tr>\n",
              "      <th>...</th>\n",
              "      <td>...</td>\n",
              "      <td>...</td>\n",
              "    </tr>\n",
              "    <tr>\n",
              "      <th>30</th>\n",
              "      <td>35</td>\n",
              "      <td>3</td>\n",
              "    </tr>\n",
              "    <tr>\n",
              "      <th>83</th>\n",
              "      <td>83</td>\n",
              "      <td>3</td>\n",
              "    </tr>\n",
              "    <tr>\n",
              "      <th>55</th>\n",
              "      <td>58</td>\n",
              "      <td>3</td>\n",
              "    </tr>\n",
              "    <tr>\n",
              "      <th>82</th>\n",
              "      <td>82</td>\n",
              "      <td>2</td>\n",
              "    </tr>\n",
              "    <tr>\n",
              "      <th>81</th>\n",
              "      <td>81</td>\n",
              "      <td>1</td>\n",
              "    </tr>\n",
              "  </tbody>\n",
              "</table>\n",
              "<p>86 rows × 2 columns</p>\n",
              "</div>\n",
              "      <button class=\"colab-df-convert\" onclick=\"convertToInteractive('df-8ea9751c-c8ba-4e47-bc48-a36d0854e0ee')\"\n",
              "              title=\"Convert this dataframe to an interactive table.\"\n",
              "              style=\"display:none;\">\n",
              "\n",
              "  <svg xmlns=\"http://www.w3.org/2000/svg\" height=\"24px\"viewBox=\"0 0 24 24\"\n",
              "       width=\"24px\">\n",
              "    <path d=\"M0 0h24v24H0V0z\" fill=\"none\"/>\n",
              "    <path d=\"M18.56 5.44l.94 2.06.94-2.06 2.06-.94-2.06-.94-.94-2.06-.94 2.06-2.06.94zm-11 1L8.5 8.5l.94-2.06 2.06-.94-2.06-.94L8.5 2.5l-.94 2.06-2.06.94zm10 10l.94 2.06.94-2.06 2.06-.94-2.06-.94-.94-2.06-.94 2.06-2.06.94z\"/><path d=\"M17.41 7.96l-1.37-1.37c-.4-.4-.92-.59-1.43-.59-.52 0-1.04.2-1.43.59L10.3 9.45l-7.72 7.72c-.78.78-.78 2.05 0 2.83L4 21.41c.39.39.9.59 1.41.59.51 0 1.02-.2 1.41-.59l7.78-7.78 2.81-2.81c.8-.78.8-2.07 0-2.86zM5.41 20L4 18.59l7.72-7.72 1.47 1.35L5.41 20z\"/>\n",
              "  </svg>\n",
              "      </button>\n",
              "\n",
              "\n",
              "\n",
              "    <div id=\"df-1563cc61-bc1a-40f4-b34c-7fb2079c9f38\">\n",
              "      <button class=\"colab-df-quickchart\" onclick=\"quickchart('df-1563cc61-bc1a-40f4-b34c-7fb2079c9f38')\"\n",
              "              title=\"Suggest charts.\"\n",
              "              style=\"display:none;\">\n",
              "\n",
              "<svg xmlns=\"http://www.w3.org/2000/svg\" height=\"24px\"viewBox=\"0 0 24 24\"\n",
              "     width=\"24px\">\n",
              "    <g>\n",
              "        <path d=\"M19 3H5c-1.1 0-2 .9-2 2v14c0 1.1.9 2 2 2h14c1.1 0 2-.9 2-2V5c0-1.1-.9-2-2-2zM9 17H7v-7h2v7zm4 0h-2V7h2v10zm4 0h-2v-4h2v4z\"/>\n",
              "    </g>\n",
              "</svg>\n",
              "      </button>\n",
              "    </div>\n",
              "\n",
              "<style>\n",
              "  .colab-df-quickchart {\n",
              "    background-color: #E8F0FE;\n",
              "    border: none;\n",
              "    border-radius: 50%;\n",
              "    cursor: pointer;\n",
              "    display: none;\n",
              "    fill: #1967D2;\n",
              "    height: 32px;\n",
              "    padding: 0 0 0 0;\n",
              "    width: 32px;\n",
              "  }\n",
              "\n",
              "  .colab-df-quickchart:hover {\n",
              "    background-color: #E2EBFA;\n",
              "    box-shadow: 0px 1px 2px rgba(60, 64, 67, 0.3), 0px 1px 3px 1px rgba(60, 64, 67, 0.15);\n",
              "    fill: #174EA6;\n",
              "  }\n",
              "\n",
              "  [theme=dark] .colab-df-quickchart {\n",
              "    background-color: #3B4455;\n",
              "    fill: #D2E3FC;\n",
              "  }\n",
              "\n",
              "  [theme=dark] .colab-df-quickchart:hover {\n",
              "    background-color: #434B5C;\n",
              "    box-shadow: 0px 1px 3px 1px rgba(0, 0, 0, 0.15);\n",
              "    filter: drop-shadow(0px 1px 2px rgba(0, 0, 0, 0.3));\n",
              "    fill: #FFFFFF;\n",
              "  }\n",
              "</style>\n",
              "\n",
              "    <script>\n",
              "      async function quickchart(key) {\n",
              "        const containerElement = document.querySelector('#' + key);\n",
              "        const charts = await google.colab.kernel.invokeFunction(\n",
              "            'suggestCharts', [key], {});\n",
              "      }\n",
              "    </script>\n",
              "\n",
              "      <script>\n",
              "\n",
              "function displayQuickchartButton(domScope) {\n",
              "  let quickchartButtonEl =\n",
              "    domScope.querySelector('#df-1563cc61-bc1a-40f4-b34c-7fb2079c9f38 button.colab-df-quickchart');\n",
              "  quickchartButtonEl.style.display =\n",
              "    google.colab.kernel.accessAllowed ? 'block' : 'none';\n",
              "}\n",
              "\n",
              "        displayQuickchartButton(document);\n",
              "      </script>\n",
              "      <style>\n",
              "    .colab-df-container {\n",
              "      display:flex;\n",
              "      flex-wrap:wrap;\n",
              "      gap: 12px;\n",
              "    }\n",
              "\n",
              "    .colab-df-convert {\n",
              "      background-color: #E8F0FE;\n",
              "      border: none;\n",
              "      border-radius: 50%;\n",
              "      cursor: pointer;\n",
              "      display: none;\n",
              "      fill: #1967D2;\n",
              "      height: 32px;\n",
              "      padding: 0 0 0 0;\n",
              "      width: 32px;\n",
              "    }\n",
              "\n",
              "    .colab-df-convert:hover {\n",
              "      background-color: #E2EBFA;\n",
              "      box-shadow: 0px 1px 2px rgba(60, 64, 67, 0.3), 0px 1px 3px 1px rgba(60, 64, 67, 0.15);\n",
              "      fill: #174EA6;\n",
              "    }\n",
              "\n",
              "    [theme=dark] .colab-df-convert {\n",
              "      background-color: #3B4455;\n",
              "      fill: #D2E3FC;\n",
              "    }\n",
              "\n",
              "    [theme=dark] .colab-df-convert:hover {\n",
              "      background-color: #434B5C;\n",
              "      box-shadow: 0px 1px 3px 1px rgba(0, 0, 0, 0.15);\n",
              "      filter: drop-shadow(0px 1px 2px rgba(0, 0, 0, 0.3));\n",
              "      fill: #FFFFFF;\n",
              "    }\n",
              "  </style>\n",
              "\n",
              "      <script>\n",
              "        const buttonEl =\n",
              "          document.querySelector('#df-8ea9751c-c8ba-4e47-bc48-a36d0854e0ee button.colab-df-convert');\n",
              "        buttonEl.style.display =\n",
              "          google.colab.kernel.accessAllowed ? 'block' : 'none';\n",
              "\n",
              "        async function convertToInteractive(key) {\n",
              "          const element = document.querySelector('#df-8ea9751c-c8ba-4e47-bc48-a36d0854e0ee');\n",
              "          const dataTable =\n",
              "            await google.colab.kernel.invokeFunction('convertToInteractive',\n",
              "                                                     [key], {});\n",
              "          if (!dataTable) return;\n",
              "\n",
              "          const docLinkHtml = 'Like what you see? Visit the ' +\n",
              "            '<a target=\"_blank\" href=https://colab.research.google.com/notebooks/data_table.ipynb>data table notebook</a>'\n",
              "            + ' to learn more about interactive tables.';\n",
              "          element.innerHTML = '';\n",
              "          dataTable['output_type'] = 'display_data';\n",
              "          await google.colab.output.renderOutput(dataTable, element);\n",
              "          const docLink = document.createElement('div');\n",
              "          docLink.innerHTML = docLinkHtml;\n",
              "          element.appendChild(docLink);\n",
              "        }\n",
              "      </script>\n",
              "    </div>\n",
              "  </div>\n"
            ]
          },
          "metadata": {},
          "execution_count": 32
        }
      ]
    },
    {
      "cell_type": "markdown",
      "source": [
        "Findings:\n",
        "* Most of the sold products are `\"Product 6\"` which is 3932.\n",
        "* Second & Third most sold products are respectively `\"Product 5\"` `\"Product 1\"`\n",
        "* The lowest sold products are `\"Product 81\"`"
      ],
      "metadata": {
        "id": "wZoo2qeprWcu"
      }
    },
    {
      "cell_type": "markdown",
      "source": [
        "## Most costly and cheap product?"
      ],
      "metadata": {
        "id": "I0LEbnOSs1P-"
      }
    },
    {
      "cell_type": "code",
      "source": [
        "max_value = df['Unit Price'].max()\n",
        "max_df = df[df['Unit Price'] == max_value]\n",
        "max_df[['Product Name', 'Unit Price']].head(1)"
      ],
      "metadata": {
        "colab": {
          "base_uri": "https://localhost:8080/",
          "height": 81
        },
        "id": "-FARJuL9s3jW",
        "outputId": "61b72b61-9dad-4c86-98e3-31c53ce0c027"
      },
      "execution_count": null,
      "outputs": [
        {
          "output_type": "execute_result",
          "data": {
            "text/plain": [
              "   Product Name  Unit Price\n",
              "43           21      3170.0"
            ],
            "text/html": [
              "\n",
              "\n",
              "  <div id=\"df-79e19763-9cdc-4695-8e8c-94aa8b3d354b\">\n",
              "    <div class=\"colab-df-container\">\n",
              "      <div>\n",
              "<style scoped>\n",
              "    .dataframe tbody tr th:only-of-type {\n",
              "        vertical-align: middle;\n",
              "    }\n",
              "\n",
              "    .dataframe tbody tr th {\n",
              "        vertical-align: top;\n",
              "    }\n",
              "\n",
              "    .dataframe thead th {\n",
              "        text-align: right;\n",
              "    }\n",
              "</style>\n",
              "<table border=\"1\" class=\"dataframe\">\n",
              "  <thead>\n",
              "    <tr style=\"text-align: right;\">\n",
              "      <th></th>\n",
              "      <th>Product Name</th>\n",
              "      <th>Unit Price</th>\n",
              "    </tr>\n",
              "  </thead>\n",
              "  <tbody>\n",
              "    <tr>\n",
              "      <th>43</th>\n",
              "      <td>21</td>\n",
              "      <td>3170.0</td>\n",
              "    </tr>\n",
              "  </tbody>\n",
              "</table>\n",
              "</div>\n",
              "      <button class=\"colab-df-convert\" onclick=\"convertToInteractive('df-79e19763-9cdc-4695-8e8c-94aa8b3d354b')\"\n",
              "              title=\"Convert this dataframe to an interactive table.\"\n",
              "              style=\"display:none;\">\n",
              "\n",
              "  <svg xmlns=\"http://www.w3.org/2000/svg\" height=\"24px\"viewBox=\"0 0 24 24\"\n",
              "       width=\"24px\">\n",
              "    <path d=\"M0 0h24v24H0V0z\" fill=\"none\"/>\n",
              "    <path d=\"M18.56 5.44l.94 2.06.94-2.06 2.06-.94-2.06-.94-.94-2.06-.94 2.06-2.06.94zm-11 1L8.5 8.5l.94-2.06 2.06-.94-2.06-.94L8.5 2.5l-.94 2.06-2.06.94zm10 10l.94 2.06.94-2.06 2.06-.94-2.06-.94-.94-2.06-.94 2.06-2.06.94z\"/><path d=\"M17.41 7.96l-1.37-1.37c-.4-.4-.92-.59-1.43-.59-.52 0-1.04.2-1.43.59L10.3 9.45l-7.72 7.72c-.78.78-.78 2.05 0 2.83L4 21.41c.39.39.9.59 1.41.59.51 0 1.02-.2 1.41-.59l7.78-7.78 2.81-2.81c.8-.78.8-2.07 0-2.86zM5.41 20L4 18.59l7.72-7.72 1.47 1.35L5.41 20z\"/>\n",
              "  </svg>\n",
              "      </button>\n",
              "\n",
              "\n",
              "\n",
              "    <div id=\"df-eaa54950-fd57-4556-be0d-f2a91b01d6df\">\n",
              "      <button class=\"colab-df-quickchart\" onclick=\"quickchart('df-eaa54950-fd57-4556-be0d-f2a91b01d6df')\"\n",
              "              title=\"Suggest charts.\"\n",
              "              style=\"display:none;\">\n",
              "\n",
              "<svg xmlns=\"http://www.w3.org/2000/svg\" height=\"24px\"viewBox=\"0 0 24 24\"\n",
              "     width=\"24px\">\n",
              "    <g>\n",
              "        <path d=\"M19 3H5c-1.1 0-2 .9-2 2v14c0 1.1.9 2 2 2h14c1.1 0 2-.9 2-2V5c0-1.1-.9-2-2-2zM9 17H7v-7h2v7zm4 0h-2V7h2v10zm4 0h-2v-4h2v4z\"/>\n",
              "    </g>\n",
              "</svg>\n",
              "      </button>\n",
              "    </div>\n",
              "\n",
              "<style>\n",
              "  .colab-df-quickchart {\n",
              "    background-color: #E8F0FE;\n",
              "    border: none;\n",
              "    border-radius: 50%;\n",
              "    cursor: pointer;\n",
              "    display: none;\n",
              "    fill: #1967D2;\n",
              "    height: 32px;\n",
              "    padding: 0 0 0 0;\n",
              "    width: 32px;\n",
              "  }\n",
              "\n",
              "  .colab-df-quickchart:hover {\n",
              "    background-color: #E2EBFA;\n",
              "    box-shadow: 0px 1px 2px rgba(60, 64, 67, 0.3), 0px 1px 3px 1px rgba(60, 64, 67, 0.15);\n",
              "    fill: #174EA6;\n",
              "  }\n",
              "\n",
              "  [theme=dark] .colab-df-quickchart {\n",
              "    background-color: #3B4455;\n",
              "    fill: #D2E3FC;\n",
              "  }\n",
              "\n",
              "  [theme=dark] .colab-df-quickchart:hover {\n",
              "    background-color: #434B5C;\n",
              "    box-shadow: 0px 1px 3px 1px rgba(0, 0, 0, 0.15);\n",
              "    filter: drop-shadow(0px 1px 2px rgba(0, 0, 0, 0.3));\n",
              "    fill: #FFFFFF;\n",
              "  }\n",
              "</style>\n",
              "\n",
              "    <script>\n",
              "      async function quickchart(key) {\n",
              "        const containerElement = document.querySelector('#' + key);\n",
              "        const charts = await google.colab.kernel.invokeFunction(\n",
              "            'suggestCharts', [key], {});\n",
              "      }\n",
              "    </script>\n",
              "\n",
              "      <script>\n",
              "\n",
              "function displayQuickchartButton(domScope) {\n",
              "  let quickchartButtonEl =\n",
              "    domScope.querySelector('#df-eaa54950-fd57-4556-be0d-f2a91b01d6df button.colab-df-quickchart');\n",
              "  quickchartButtonEl.style.display =\n",
              "    google.colab.kernel.accessAllowed ? 'block' : 'none';\n",
              "}\n",
              "\n",
              "        displayQuickchartButton(document);\n",
              "      </script>\n",
              "      <style>\n",
              "    .colab-df-container {\n",
              "      display:flex;\n",
              "      flex-wrap:wrap;\n",
              "      gap: 12px;\n",
              "    }\n",
              "\n",
              "    .colab-df-convert {\n",
              "      background-color: #E8F0FE;\n",
              "      border: none;\n",
              "      border-radius: 50%;\n",
              "      cursor: pointer;\n",
              "      display: none;\n",
              "      fill: #1967D2;\n",
              "      height: 32px;\n",
              "      padding: 0 0 0 0;\n",
              "      width: 32px;\n",
              "    }\n",
              "\n",
              "    .colab-df-convert:hover {\n",
              "      background-color: #E2EBFA;\n",
              "      box-shadow: 0px 1px 2px rgba(60, 64, 67, 0.3), 0px 1px 3px 1px rgba(60, 64, 67, 0.15);\n",
              "      fill: #174EA6;\n",
              "    }\n",
              "\n",
              "    [theme=dark] .colab-df-convert {\n",
              "      background-color: #3B4455;\n",
              "      fill: #D2E3FC;\n",
              "    }\n",
              "\n",
              "    [theme=dark] .colab-df-convert:hover {\n",
              "      background-color: #434B5C;\n",
              "      box-shadow: 0px 1px 3px 1px rgba(0, 0, 0, 0.15);\n",
              "      filter: drop-shadow(0px 1px 2px rgba(0, 0, 0, 0.3));\n",
              "      fill: #FFFFFF;\n",
              "    }\n",
              "  </style>\n",
              "\n",
              "      <script>\n",
              "        const buttonEl =\n",
              "          document.querySelector('#df-79e19763-9cdc-4695-8e8c-94aa8b3d354b button.colab-df-convert');\n",
              "        buttonEl.style.display =\n",
              "          google.colab.kernel.accessAllowed ? 'block' : 'none';\n",
              "\n",
              "        async function convertToInteractive(key) {\n",
              "          const element = document.querySelector('#df-79e19763-9cdc-4695-8e8c-94aa8b3d354b');\n",
              "          const dataTable =\n",
              "            await google.colab.kernel.invokeFunction('convertToInteractive',\n",
              "                                                     [key], {});\n",
              "          if (!dataTable) return;\n",
              "\n",
              "          const docLinkHtml = 'Like what you see? Visit the ' +\n",
              "            '<a target=\"_blank\" href=https://colab.research.google.com/notebooks/data_table.ipynb>data table notebook</a>'\n",
              "            + ' to learn more about interactive tables.';\n",
              "          element.innerHTML = '';\n",
              "          dataTable['output_type'] = 'display_data';\n",
              "          await google.colab.output.renderOutput(dataTable, element);\n",
              "          const docLink = document.createElement('div');\n",
              "          docLink.innerHTML = docLinkHtml;\n",
              "          element.appendChild(docLink);\n",
              "        }\n",
              "      </script>\n",
              "    </div>\n",
              "  </div>\n"
            ]
          },
          "metadata": {},
          "execution_count": 33
        }
      ]
    },
    {
      "cell_type": "markdown",
      "source": [
        "**Findings:**\n",
        "* Most costly product is \"Product 21\" and the price is $3170"
      ],
      "metadata": {
        "id": "TT8MLaiRtUU-"
      }
    },
    {
      "cell_type": "code",
      "source": [
        "min_value = df['Unit Price'].min()\n",
        "min_df = df[df['Unit Price'] == min_value]\n",
        "min_df[['Product Name', 'Unit Price']]"
      ],
      "metadata": {
        "colab": {
          "base_uri": "https://localhost:8080/",
          "height": 424
        },
        "id": "9V1PNpAntg2e",
        "outputId": "75bbb2a1-a35b-4c6d-850d-b9d6b92d41df"
      },
      "execution_count": null,
      "outputs": [
        {
          "output_type": "execute_result",
          "data": {
            "text/plain": [
              "    Product Name  Unit Price\n",
              "6              5        21.4\n",
              "25             5        21.4\n",
              "26            15        21.4\n",
              "27            16        21.4\n",
              "33            15        21.4\n",
              "..           ...         ...\n",
              "654           15        21.4\n",
              "658            5        21.4\n",
              "666            5        21.4\n",
              "667           15        21.4\n",
              "694            5        21.4\n",
              "\n",
              "[111 rows x 2 columns]"
            ],
            "text/html": [
              "\n",
              "\n",
              "  <div id=\"df-b727597a-7a87-4937-b1e3-2252a827767d\">\n",
              "    <div class=\"colab-df-container\">\n",
              "      <div>\n",
              "<style scoped>\n",
              "    .dataframe tbody tr th:only-of-type {\n",
              "        vertical-align: middle;\n",
              "    }\n",
              "\n",
              "    .dataframe tbody tr th {\n",
              "        vertical-align: top;\n",
              "    }\n",
              "\n",
              "    .dataframe thead th {\n",
              "        text-align: right;\n",
              "    }\n",
              "</style>\n",
              "<table border=\"1\" class=\"dataframe\">\n",
              "  <thead>\n",
              "    <tr style=\"text-align: right;\">\n",
              "      <th></th>\n",
              "      <th>Product Name</th>\n",
              "      <th>Unit Price</th>\n",
              "    </tr>\n",
              "  </thead>\n",
              "  <tbody>\n",
              "    <tr>\n",
              "      <th>6</th>\n",
              "      <td>5</td>\n",
              "      <td>21.4</td>\n",
              "    </tr>\n",
              "    <tr>\n",
              "      <th>25</th>\n",
              "      <td>5</td>\n",
              "      <td>21.4</td>\n",
              "    </tr>\n",
              "    <tr>\n",
              "      <th>26</th>\n",
              "      <td>15</td>\n",
              "      <td>21.4</td>\n",
              "    </tr>\n",
              "    <tr>\n",
              "      <th>27</th>\n",
              "      <td>16</td>\n",
              "      <td>21.4</td>\n",
              "    </tr>\n",
              "    <tr>\n",
              "      <th>33</th>\n",
              "      <td>15</td>\n",
              "      <td>21.4</td>\n",
              "    </tr>\n",
              "    <tr>\n",
              "      <th>...</th>\n",
              "      <td>...</td>\n",
              "      <td>...</td>\n",
              "    </tr>\n",
              "    <tr>\n",
              "      <th>654</th>\n",
              "      <td>15</td>\n",
              "      <td>21.4</td>\n",
              "    </tr>\n",
              "    <tr>\n",
              "      <th>658</th>\n",
              "      <td>5</td>\n",
              "      <td>21.4</td>\n",
              "    </tr>\n",
              "    <tr>\n",
              "      <th>666</th>\n",
              "      <td>5</td>\n",
              "      <td>21.4</td>\n",
              "    </tr>\n",
              "    <tr>\n",
              "      <th>667</th>\n",
              "      <td>15</td>\n",
              "      <td>21.4</td>\n",
              "    </tr>\n",
              "    <tr>\n",
              "      <th>694</th>\n",
              "      <td>5</td>\n",
              "      <td>21.4</td>\n",
              "    </tr>\n",
              "  </tbody>\n",
              "</table>\n",
              "<p>111 rows × 2 columns</p>\n",
              "</div>\n",
              "      <button class=\"colab-df-convert\" onclick=\"convertToInteractive('df-b727597a-7a87-4937-b1e3-2252a827767d')\"\n",
              "              title=\"Convert this dataframe to an interactive table.\"\n",
              "              style=\"display:none;\">\n",
              "\n",
              "  <svg xmlns=\"http://www.w3.org/2000/svg\" height=\"24px\"viewBox=\"0 0 24 24\"\n",
              "       width=\"24px\">\n",
              "    <path d=\"M0 0h24v24H0V0z\" fill=\"none\"/>\n",
              "    <path d=\"M18.56 5.44l.94 2.06.94-2.06 2.06-.94-2.06-.94-.94-2.06-.94 2.06-2.06.94zm-11 1L8.5 8.5l.94-2.06 2.06-.94-2.06-.94L8.5 2.5l-.94 2.06-2.06.94zm10 10l.94 2.06.94-2.06 2.06-.94-2.06-.94-.94-2.06-.94 2.06-2.06.94z\"/><path d=\"M17.41 7.96l-1.37-1.37c-.4-.4-.92-.59-1.43-.59-.52 0-1.04.2-1.43.59L10.3 9.45l-7.72 7.72c-.78.78-.78 2.05 0 2.83L4 21.41c.39.39.9.59 1.41.59.51 0 1.02-.2 1.41-.59l7.78-7.78 2.81-2.81c.8-.78.8-2.07 0-2.86zM5.41 20L4 18.59l7.72-7.72 1.47 1.35L5.41 20z\"/>\n",
              "  </svg>\n",
              "      </button>\n",
              "\n",
              "\n",
              "\n",
              "    <div id=\"df-50b1a1d6-c849-4a15-85ab-23e8b1d69e43\">\n",
              "      <button class=\"colab-df-quickchart\" onclick=\"quickchart('df-50b1a1d6-c849-4a15-85ab-23e8b1d69e43')\"\n",
              "              title=\"Suggest charts.\"\n",
              "              style=\"display:none;\">\n",
              "\n",
              "<svg xmlns=\"http://www.w3.org/2000/svg\" height=\"24px\"viewBox=\"0 0 24 24\"\n",
              "     width=\"24px\">\n",
              "    <g>\n",
              "        <path d=\"M19 3H5c-1.1 0-2 .9-2 2v14c0 1.1.9 2 2 2h14c1.1 0 2-.9 2-2V5c0-1.1-.9-2-2-2zM9 17H7v-7h2v7zm4 0h-2V7h2v10zm4 0h-2v-4h2v4z\"/>\n",
              "    </g>\n",
              "</svg>\n",
              "      </button>\n",
              "    </div>\n",
              "\n",
              "<style>\n",
              "  .colab-df-quickchart {\n",
              "    background-color: #E8F0FE;\n",
              "    border: none;\n",
              "    border-radius: 50%;\n",
              "    cursor: pointer;\n",
              "    display: none;\n",
              "    fill: #1967D2;\n",
              "    height: 32px;\n",
              "    padding: 0 0 0 0;\n",
              "    width: 32px;\n",
              "  }\n",
              "\n",
              "  .colab-df-quickchart:hover {\n",
              "    background-color: #E2EBFA;\n",
              "    box-shadow: 0px 1px 2px rgba(60, 64, 67, 0.3), 0px 1px 3px 1px rgba(60, 64, 67, 0.15);\n",
              "    fill: #174EA6;\n",
              "  }\n",
              "\n",
              "  [theme=dark] .colab-df-quickchart {\n",
              "    background-color: #3B4455;\n",
              "    fill: #D2E3FC;\n",
              "  }\n",
              "\n",
              "  [theme=dark] .colab-df-quickchart:hover {\n",
              "    background-color: #434B5C;\n",
              "    box-shadow: 0px 1px 3px 1px rgba(0, 0, 0, 0.15);\n",
              "    filter: drop-shadow(0px 1px 2px rgba(0, 0, 0, 0.3));\n",
              "    fill: #FFFFFF;\n",
              "  }\n",
              "</style>\n",
              "\n",
              "    <script>\n",
              "      async function quickchart(key) {\n",
              "        const containerElement = document.querySelector('#' + key);\n",
              "        const charts = await google.colab.kernel.invokeFunction(\n",
              "            'suggestCharts', [key], {});\n",
              "      }\n",
              "    </script>\n",
              "\n",
              "      <script>\n",
              "\n",
              "function displayQuickchartButton(domScope) {\n",
              "  let quickchartButtonEl =\n",
              "    domScope.querySelector('#df-50b1a1d6-c849-4a15-85ab-23e8b1d69e43 button.colab-df-quickchart');\n",
              "  quickchartButtonEl.style.display =\n",
              "    google.colab.kernel.accessAllowed ? 'block' : 'none';\n",
              "}\n",
              "\n",
              "        displayQuickchartButton(document);\n",
              "      </script>\n",
              "      <style>\n",
              "    .colab-df-container {\n",
              "      display:flex;\n",
              "      flex-wrap:wrap;\n",
              "      gap: 12px;\n",
              "    }\n",
              "\n",
              "    .colab-df-convert {\n",
              "      background-color: #E8F0FE;\n",
              "      border: none;\n",
              "      border-radius: 50%;\n",
              "      cursor: pointer;\n",
              "      display: none;\n",
              "      fill: #1967D2;\n",
              "      height: 32px;\n",
              "      padding: 0 0 0 0;\n",
              "      width: 32px;\n",
              "    }\n",
              "\n",
              "    .colab-df-convert:hover {\n",
              "      background-color: #E2EBFA;\n",
              "      box-shadow: 0px 1px 2px rgba(60, 64, 67, 0.3), 0px 1px 3px 1px rgba(60, 64, 67, 0.15);\n",
              "      fill: #174EA6;\n",
              "    }\n",
              "\n",
              "    [theme=dark] .colab-df-convert {\n",
              "      background-color: #3B4455;\n",
              "      fill: #D2E3FC;\n",
              "    }\n",
              "\n",
              "    [theme=dark] .colab-df-convert:hover {\n",
              "      background-color: #434B5C;\n",
              "      box-shadow: 0px 1px 3px 1px rgba(0, 0, 0, 0.15);\n",
              "      filter: drop-shadow(0px 1px 2px rgba(0, 0, 0, 0.3));\n",
              "      fill: #FFFFFF;\n",
              "    }\n",
              "  </style>\n",
              "\n",
              "      <script>\n",
              "        const buttonEl =\n",
              "          document.querySelector('#df-b727597a-7a87-4937-b1e3-2252a827767d button.colab-df-convert');\n",
              "        buttonEl.style.display =\n",
              "          google.colab.kernel.accessAllowed ? 'block' : 'none';\n",
              "\n",
              "        async function convertToInteractive(key) {\n",
              "          const element = document.querySelector('#df-b727597a-7a87-4937-b1e3-2252a827767d');\n",
              "          const dataTable =\n",
              "            await google.colab.kernel.invokeFunction('convertToInteractive',\n",
              "                                                     [key], {});\n",
              "          if (!dataTable) return;\n",
              "\n",
              "          const docLinkHtml = 'Like what you see? Visit the ' +\n",
              "            '<a target=\"_blank\" href=https://colab.research.google.com/notebooks/data_table.ipynb>data table notebook</a>'\n",
              "            + ' to learn more about interactive tables.';\n",
              "          element.innerHTML = '';\n",
              "          dataTable['output_type'] = 'display_data';\n",
              "          await google.colab.output.renderOutput(dataTable, element);\n",
              "          const docLink = document.createElement('div');\n",
              "          docLink.innerHTML = docLinkHtml;\n",
              "          element.appendChild(docLink);\n",
              "        }\n",
              "      </script>\n",
              "    </div>\n",
              "  </div>\n"
            ]
          },
          "metadata": {},
          "execution_count": 34
        }
      ]
    },
    {
      "cell_type": "code",
      "source": [
        "min_df['Product Name'].nunique()"
      ],
      "metadata": {
        "colab": {
          "base_uri": "https://localhost:8080/"
        },
        "id": "XzSUSHbstpNm",
        "outputId": "d3f5deda-9356-415c-8f9e-aeae72816cd1"
      },
      "execution_count": null,
      "outputs": [
        {
          "output_type": "execute_result",
          "data": {
            "text/plain": [
              "3"
            ]
          },
          "metadata": {},
          "execution_count": 35
        }
      ]
    },
    {
      "cell_type": "markdown",
      "source": [
        "**Findings:**\n",
        "* From the above analysis we can see there are 3 unique products`(\"Product 5\", \"Product 15\" and \"Product 16\")` carries the lowest unit price.\n",
        "* Chaep Product price is $21.4"
      ],
      "metadata": {
        "id": "kZNOuV0dtvlG"
      }
    },
    {
      "cell_type": "markdown",
      "source": [
        "## How many Customers do we have?(count of 1)"
      ],
      "metadata": {
        "id": "UMUhcILhueVP"
      }
    },
    {
      "cell_type": "code",
      "source": [
        "num_cus = df[df['Sl No.'] == 1].count()\n",
        "num_cus['Sl No.']"
      ],
      "metadata": {
        "colab": {
          "base_uri": "https://localhost:8080/"
        },
        "id": "9djGmW5xugI4",
        "outputId": "d8f402db-3b3d-4802-c3b4-738e0c46c6b7"
      },
      "execution_count": null,
      "outputs": [
        {
          "output_type": "execute_result",
          "data": {
            "text/plain": [
              "348"
            ]
          },
          "metadata": {},
          "execution_count": 36
        }
      ]
    },
    {
      "cell_type": "markdown",
      "source": [
        "**Findings:**\n",
        "* We have total 348 customers"
      ],
      "metadata": {
        "id": "imEUdvA_umNx"
      }
    }
  ]
}